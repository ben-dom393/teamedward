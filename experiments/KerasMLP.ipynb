{
  "nbformat": 4,
  "nbformat_minor": 0,
  "metadata": {
    "colab": {
      "provenance": []
    },
    "kernelspec": {
      "name": "python3",
      "display_name": "Python 3"
    },
    "language_info": {
      "name": "python"
    }
  },
  "cells": [
    {
      "cell_type": "code",
      "execution_count": 17,
      "metadata": {
        "id": "EwCxHBmB5oZO"
      },
      "outputs": [],
      "source": [
        "import tensorflow as tf\n",
        "from tensorflow import keras\n",
        "import pandas as pd\n",
        "from sklearn.preprocessing import StandardScaler\n",
        "from imblearn.over_sampling import SMOTE\n",
        "from tensorflow.keras.regularizers import l2\n",
        "from tensorflow.keras.optimizers import Adam\n",
        "import numpy as np\n",
        "from sklearn.model_selection import StratifiedKFold\n",
        "from sklearn.metrics import average_precision_score, roc_auc_score"
      ]
    },
    {
      "cell_type": "code",
      "source": [
        "%cd /content/drive/MyDrive/Colab\\ Notebooks/DSA4266\n",
        "%ls"
      ],
      "metadata": {
        "colab": {
          "base_uri": "https://localhost:8080/"
        },
        "id": "_vt425m66EmT",
        "outputId": "d18a7727-d36c-4939-b54b-79bf5f126262"
      },
      "execution_count": 4,
      "outputs": [
        {
          "output_type": "stream",
          "name": "stdout",
          "text": [
            "/content/drive/MyDrive/Colab Notebooks/DSA4266\n",
            "'Copy of Introduction_Genomics_1_GoogleColab.ipynb'   label_df_train.csv\n",
            "'Copy of Introduction_Genomics_2_GoogleColab.ipynb'   label_df_valid.csv\n"
          ]
        }
      ]
    },
    {
      "cell_type": "code",
      "source": [
        "train_df = pd.read_csv('label_df_train.csv')\n",
        "test_df = pd.read_csv('label_df_valid.csv')"
      ],
      "metadata": {
        "id": "Vw_KTjq86UX3"
      },
      "execution_count": 20,
      "outputs": []
    },
    {
      "cell_type": "code",
      "source": [
        "train_df = train_df.drop(columns = ['transcript_id', 'transcript_position','five_mer'])"
      ],
      "metadata": {
        "id": "aEU4oTgM6sXD"
      },
      "execution_count": 6,
      "outputs": []
    },
    {
      "cell_type": "code",
      "source": [
        "data, gene_ids = train_df[[i for i in train_df.columns if i!='gene_id']],train_df['gene_id']"
      ],
      "metadata": {
        "id": "JnuA_HYi6jd-"
      },
      "execution_count": 7,
      "outputs": []
    },
    {
      "cell_type": "code",
      "source": [
        "unique_ids = gene_ids.unique()\n",
        "np.random.shuffle(unique_ids)"
      ],
      "metadata": {
        "id": "-v82GWMISTxA"
      },
      "execution_count": 8,
      "outputs": []
    },
    {
      "cell_type": "code",
      "source": [
        "len(unique_ids)"
      ],
      "metadata": {
        "colab": {
          "base_uri": "https://localhost:8080/"
        },
        "id": "FrYkYe0rSv_4",
        "outputId": "a35061ce-69f7-48df-f647-89de5325867b"
      },
      "execution_count": 9,
      "outputs": [
        {
          "output_type": "execute_result",
          "data": {
            "text/plain": [
              "3081"
            ]
          },
          "metadata": {},
          "execution_count": 9
        }
      ]
    },
    {
      "cell_type": "code",
      "source": [
        "from sklearn.metrics import precision_recall_curve,auc, roc_auc_score, average_precision_score\n",
        "class ScoreCallback(tf.keras.callbacks.Callback):\n",
        "  def __init__(self, validation_data):\n",
        "        super(ScoreCallback, self).__init__()\n",
        "        self.validation_data = validation_data\n",
        "        self.scores = []\n",
        "  def on_epoch_end(self, epoch, logs=None):\n",
        "        y_pred = self.model.predict(self.validation_data[0], verbose = 0)\n",
        "        y_true = self.validation_data[1]\n",
        "        ap = average_precision_score(y_true, y_pred)\n",
        "        roc = roc_auc_score(y_true, y_pred)\n",
        "        print(0.5*(ap+roc))\n",
        "        self.scores.append(0.5*(ap+roc))\n",
        "\n",
        "# Create an instance of the custom callback\n"
      ],
      "metadata": {
        "id": "n96ZSLaL4xF4"
      },
      "execution_count": null,
      "outputs": []
    },
    {
      "cell_type": "code",
      "source": [
        "def kfoldpipeline(n_fold=5):\n",
        "  total_score = 0\n",
        "  total_epochs = 0\n",
        "  fold_ranges = np.arange(0,len(unique_ids)+1,int(len(unique_ids)/n_fold))\n",
        "  for i in range(n_fold):\n",
        "    data_train = data[~train_df['gene_id'].isin(unique_ids[fold_ranges[i]:fold_ranges[i+1]])]\n",
        "    data_test = data[train_df['gene_id'].isin(unique_ids[fold_ranges[i]:fold_ranges[i+1]])]\n",
        "    X_train, y_train = data_train[[i for i in data_train if i!='label']], data_train['label']\n",
        "    X_valid, y_valid = data_test[[i for i in data_train if i!='label']], data_test['label']\n",
        "    scaler = StandardScaler()\n",
        "\n",
        "    X_train_scaled = scaler.fit_transform(X_train)\n",
        "    X_valid_scaled = scaler.transform(X_valid)\n",
        "    if sampling_strategy:\n",
        "      smote = SMOTE(sampling_strategy = sampling_strategy)\n",
        "      X_train_scaled_res, y_train_res = smote.fit_resample(X_train_scaled,y_train)\n",
        "    else:\n",
        "      X_train_scaled_res, y_train_res = X_train_scaled, y_train\n",
        "\n",
        "    score_callback = ScoreCallback((X_valid_scaled, y_valid))\n",
        "    adam_optimizer = Adam(learning_rate=initial_learning_rate)\n",
        "    model = keras.Sequential([\n",
        "        keras.layers.Input(shape=(X_train_scaled_res.shape[1],)),  # Input layer with 2 features\n",
        "        keras.layers.Dense(num_nodes, activation=hidden_activation,kernel_regularizer=l2(l2_reg_strength)),\n",
        "        keras.layers.Dropout(dropout_ratio),\n",
        "        keras.layers.Dense(num_nodes, activation=hidden_activation,kernel_regularizer=l2(l2_reg_strength)),\n",
        "        keras.layers.Dropout(dropout_ratio),\n",
        "        keras.layers.Dense(1, activation='sigmoid')  # Output layer with 1 neuron and sigmoid activation for binary classification\n",
        "    ])\n",
        "    model.compile(optimizer=adam_optimizer, loss='binary_crossentropy')\n",
        "    if class_weight:\n",
        "      neg = y_train_res.value_counts()[0]\n",
        "      pos = y_train_res.value_counts()[1]\n",
        "      total = neg+pos\n",
        "      weight_for_0 = (1 / neg) * (total / 2.0)\n",
        "      weight_for_1 = (1 / pos) * (total / 2.0)\n",
        "      class_weights = {0: weight_for_0, 1: weight_for_1}\n",
        "    else:\n",
        "      class_weights = {0:1, 1:1}\n",
        "    model.fit(X_train_scaled_res, y_train_res, batch_size = batch_size, epochs = epochs, shuffle =True, callbacks=[score_callback], verbose = 0, class_weight = class_weights)\n",
        "    total_score += max(score_callback.scores)\n",
        "    total_epochs += (np.argmax(score_callback.scores)+1)\n",
        "  print(f\"CV Score : {total_score/n_fold}\")\n",
        "  print(f\"Suggested Number of Epochs :{total_epochs/n_fold}\")\n"
      ],
      "metadata": {
        "id": "a-EH1C2g2zlR"
      },
      "execution_count": null,
      "outputs": []
    },
    {
      "cell_type": "code",
      "source": [
        "#Best HyperParameters\n",
        "sampling_strategy = 0\n",
        "class_weight = True\n",
        "initial_learning_rate = 0.001\n",
        "l2_reg_strength = 0.0001\n",
        "batch_size = 32 #Best is actually 32 but is too slow\n",
        "hidden_activation = \"relu\"\n",
        "num_nodes = 64\n",
        "dropout_ratio = 0\n",
        "#TBA\n",
        "epochs = 20\n",
        "#2 layers is the best"
      ],
      "metadata": {
        "id": "5Bc0dvjbo66_"
      },
      "execution_count": 14,
      "outputs": []
    },
    {
      "cell_type": "code",
      "source": [
        "#3 layer = 0.6782452356597547\n",
        "#1 layer = 0.6785021020145741\n",
        "#2 layer = 0.6816"
      ],
      "metadata": {
        "id": "U50mIDT-YJ_d"
      },
      "execution_count": null,
      "outputs": []
    },
    {
      "cell_type": "markdown",
      "source": [
        "CV Score around 0.67, suggested epochs: 5 to 6"
      ],
      "metadata": {
        "id": "7xDKzu8ZW1nG"
      }
    },
    {
      "cell_type": "code",
      "source": [
        "class EarlyStoppingByAP(keras.callbacks.Callback):\n",
        "    def __init__(self, validation_data, patience=10, restore_best_weights=True):\n",
        "        super(EarlyStoppingByAP, self).__init__()\n",
        "        self.validation_data = validation_data\n",
        "        self.patience = patience\n",
        "        self.restore_best_weights = restore_best_weights\n",
        "        self.best_score = -1\n",
        "        self.wait = 0\n",
        "\n",
        "    def on_epoch_end(self, epoch, logs=None):\n",
        "        X_val, y_val = self.validation_data\n",
        "        y_pred = self.model.predict(X_val)\n",
        "        ap = average_precision_score(y_val, y_pred)\n",
        "        roc = roc_auc_score(y_val, y_pred)\n",
        "        score = 0.5*(ap+roc)\n",
        "\n",
        "        if score > self.best_score:\n",
        "            self.best_score = score\n",
        "            self.wait = 0\n",
        "            if self.restore_best_weights:\n",
        "                self.best_weights = self.model.get_weights()\n",
        "        else:\n",
        "            self.wait += 1\n",
        "            if self.wait >= self.patience:\n",
        "                print(f\"Early stopping due to no improvement in Average Precision for {self.patience} epochs.\")\n",
        "                self.model.stop_training = True\n",
        "                if self.restore_best_weights:\n",
        "                    print(\"Restoring best weights.\")\n",
        "                    self.model.set_weights(self.best_weights)"
      ],
      "metadata": {
        "id": "0--rpWL9w3xn"
      },
      "execution_count": 10,
      "outputs": []
    },
    {
      "cell_type": "code",
      "source": [
        "def final_fitting(num_epochs):\n",
        "  X_train, y_train = data[[i for i in data if i!='label']], data['label']\n",
        "  X_test,y_test = test_df[[i for i in X_train.columns]], test_df['label']\n",
        "\n",
        "  scaler = StandardScaler()\n",
        "  neg = y_train.value_counts()[0]\n",
        "  pos = y_train.value_counts()[1]\n",
        "  total = neg+pos\n",
        "  weight_for_0 = (1 / neg) * (total / 2.0)\n",
        "  weight_for_1 = (1 / pos) * (total / 2.0)\n",
        "  class_weights = {0: weight_for_0, 1: weight_for_1}\n",
        "  #smote = SMOTE(sampling_strategy = sampling_strategy)\n",
        "  X_train_scaled = scaler.fit_transform(X_train)\n",
        "  X_test_scaled = scaler.transform(X_test)\n",
        "  adam_optimizer = Adam(learning_rate=initial_learning_rate)\n",
        "  early_stopping = EarlyStoppingByAP(validation_data=(X_test_scaled, y_test), patience=10)\n",
        "  model = keras.Sequential([\n",
        "      keras.layers.Input(shape=(X_train_scaled.shape[1],)),  # Input layer with 2 features\n",
        "      keras.layers.Dense(num_nodes, activation=hidden_activation,kernel_regularizer=l2(l2_reg_strength)),  # Hidden layer with 64 neurons and ReLU activation\n",
        "      keras.layers.Dense(num_nodes, activation=hidden_activation,kernel_regularizer=l2(l2_reg_strength)),  # Hidden layer with 32 neurons and ReLU activation\n",
        "      keras.layers.Dense(1, activation='sigmoid')  # Output layer with 1 neuron and sigmoid activation for binary classification\n",
        "  ])\n",
        "  model.compile(optimizer=adam_optimizer, loss='binary_crossentropy')\n",
        "  model.fit(X_train_scaled, y_train, batch_size = batch_size, epochs = num_epochs, shuffle =True, class_weight = class_weights,callbacks=[early_stopping])\n",
        "  y_pred = model.predict(X_test_scaled)\n",
        "  print(roc_auc_score(y_test,y_pred))\n",
        "  print(average_precision_score(y_test,y_pred))"
      ],
      "metadata": {
        "id": "iV3zU8O4W6EI"
      },
      "execution_count": 12,
      "outputs": []
    },
    {
      "cell_type": "code",
      "source": [
        "final_fitting(40)"
      ],
      "metadata": {
        "colab": {
          "base_uri": "https://localhost:8080/"
        },
        "id": "y-0lL9Ggkv7p",
        "outputId": "225a1672-9b57-487d-a310-174afd478917"
      },
      "execution_count": 18,
      "outputs": [
        {
          "output_type": "stream",
          "name": "stdout",
          "text": [
            "Epoch 1/40\n",
            "775/775 [==============================] - 1s 2ms/step\n",
            "3033/3033 [==============================] - 11s 3ms/step - loss: 0.4720\n",
            "Epoch 2/40\n",
            "775/775 [==============================] - 1s 2ms/step\n",
            "3033/3033 [==============================] - 10s 3ms/step - loss: 0.4250\n",
            "Epoch 3/40\n",
            "775/775 [==============================] - 1s 1ms/step\n",
            "3033/3033 [==============================] - 12s 4ms/step - loss: 0.4089\n",
            "Epoch 4/40\n",
            "775/775 [==============================] - 2s 2ms/step\n",
            "3033/3033 [==============================] - 10s 3ms/step - loss: 0.4032\n",
            "Epoch 5/40\n",
            "775/775 [==============================] - 1s 1ms/step\n",
            "3033/3033 [==============================] - 10s 3ms/step - loss: 0.3958\n",
            "Epoch 6/40\n",
            "775/775 [==============================] - 1s 1ms/step\n",
            "3033/3033 [==============================] - 11s 4ms/step - loss: 0.3902\n",
            "Epoch 7/40\n",
            "775/775 [==============================] - 1s 1ms/step\n",
            "3033/3033 [==============================] - 14s 5ms/step - loss: 0.3853\n",
            "Epoch 8/40\n",
            "775/775 [==============================] - 1s 2ms/step\n",
            "3033/3033 [==============================] - 10s 3ms/step - loss: 0.3838\n",
            "Epoch 9/40\n",
            "775/775 [==============================] - 1s 2ms/step\n",
            "3033/3033 [==============================] - 9s 3ms/step - loss: 0.3806\n",
            "Epoch 10/40\n",
            "775/775 [==============================] - 1s 2ms/step\n",
            "3033/3033 [==============================] - 12s 4ms/step - loss: 0.3777\n",
            "Epoch 11/40\n",
            "775/775 [==============================] - 1s 2ms/step\n",
            "3033/3033 [==============================] - 10s 3ms/step - loss: 0.3751\n",
            "Epoch 12/40\n",
            "775/775 [==============================] - 2s 2ms/step\n",
            "3033/3033 [==============================] - 10s 3ms/step - loss: 0.3730\n",
            "Epoch 13/40\n",
            "775/775 [==============================] - 1s 1ms/step\n",
            "3033/3033 [==============================] - 10s 3ms/step - loss: 0.3739\n",
            "Epoch 14/40\n",
            "775/775 [==============================] - 1s 1ms/step\n",
            "3033/3033 [==============================] - 12s 4ms/step - loss: 0.3717\n",
            "Epoch 15/40\n",
            "775/775 [==============================] - 1s 1ms/step\n",
            "3033/3033 [==============================] - 10s 3ms/step - loss: 0.3717\n",
            "Epoch 16/40\n",
            "775/775 [==============================] - 1s 2ms/step\n",
            "3033/3033 [==============================] - 9s 3ms/step - loss: 0.3700\n",
            "Epoch 17/40\n",
            "775/775 [==============================] - 1s 1ms/step\n",
            "Early stopping due to no improvement in Average Precision for 10 epochs.\n",
            "Restoring best weights.\n",
            "3033/3033 [==============================] - 13s 4ms/step - loss: 0.3682\n",
            "775/775 [==============================] - 1s 1ms/step\n",
            "0.9046375149783967\n",
            "0.4490274048658146\n"
          ]
        }
      ]
    },
    {
      "cell_type": "code",
      "source": [
        "0.5*(0.9046375149783967+0.4490274048658146)"
      ],
      "metadata": {
        "colab": {
          "base_uri": "https://localhost:8080/"
        },
        "id": "rVdFIG-Jlj80",
        "outputId": "3a53c8b1-2a36-4df2-ec10-f8374593510b"
      },
      "execution_count": 19,
      "outputs": [
        {
          "output_type": "execute_result",
          "data": {
            "text/plain": [
              "0.6768324599221056"
            ]
          },
          "metadata": {},
          "execution_count": 19
        }
      ]
    },
    {
      "cell_type": "code",
      "source": [],
      "metadata": {
        "id": "OOnbLx-JOKpa"
      },
      "execution_count": null,
      "outputs": []
    },
    {
      "cell_type": "code",
      "source": [
        "for i in train_df.columns:\n",
        "  print(i)"
      ],
      "metadata": {
        "id": "P5fioNHxRKM8",
        "colab": {
          "base_uri": "https://localhost:8080/"
        },
        "outputId": "a529850a-ab44-4dbc-e8a3-0d3d4ea03378"
      },
      "execution_count": null,
      "outputs": [
        {
          "output_type": "stream",
          "name": "stdout",
          "text": [
            "weighted_mean_neg1\n",
            "weighted_mean_0\n",
            "weighted_mean_1\n",
            "weighted_sd_neg1\n",
            "weighted_sd_0\n",
            "weighted_sd_1\n",
            "mean_25_neg1\n",
            "mean_25_0\n",
            "mean_25_1\n",
            "mean_50_neg1\n",
            "mean_50_0\n",
            "mean_50_1\n",
            "mean_75_neg1\n",
            "mean_75_0\n",
            "mean_75_1\n",
            "sd_25_neg1\n",
            "sd_25_0\n",
            "sd_25_1\n",
            "sd_50_neg1\n",
            "sd_50_0\n",
            "sd_50_1\n",
            "sd_75_neg1\n",
            "sd_75_0\n",
            "sd_75_1\n",
            "5-mer-0_A\n",
            "5-mer-0_C\n",
            "5-mer-0_G\n",
            "5-mer-0_T\n",
            "5-mer-1_A\n",
            "5-mer-1_G\n",
            "5-mer-1_T\n",
            "5-mer-2_A\n",
            "5-mer-2_G\n",
            "5-mer-5_A\n",
            "5-mer-5_C\n",
            "5-mer-5_T\n",
            "5-mer-6_A\n",
            "5-mer-6_C\n",
            "5-mer-6_G\n",
            "5-mer-6_T\n",
            "5-mer_window-1_AAAAC\n",
            "5-mer_window-1_AAGAC\n",
            "5-mer_window-1_AGAAC\n",
            "5-mer_window-1_AGGAC\n",
            "5-mer_window-1_ATAAC\n",
            "5-mer_window-1_ATGAC\n",
            "5-mer_window-1_CAAAC\n",
            "5-mer_window-1_CAGAC\n",
            "5-mer_window-1_CGAAC\n",
            "5-mer_window-1_CGGAC\n",
            "5-mer_window-1_CTAAC\n",
            "5-mer_window-1_CTGAC\n",
            "5-mer_window-1_GAAAC\n",
            "5-mer_window-1_GAGAC\n",
            "5-mer_window-1_GGAAC\n",
            "5-mer_window-1_GGGAC\n",
            "5-mer_window-1_GTAAC\n",
            "5-mer_window-1_GTGAC\n",
            "5-mer_window-1_TAAAC\n",
            "5-mer_window-1_TAGAC\n",
            "5-mer_window-1_TGAAC\n",
            "5-mer_window-1_TGGAC\n",
            "5-mer_window-1_TTAAC\n",
            "5-mer_window-1_TTGAC\n",
            "5-mer_window0_AAACA\n",
            "5-mer_window0_AAACC\n",
            "5-mer_window0_AAACT\n",
            "5-mer_window0_AGACA\n",
            "5-mer_window0_AGACC\n",
            "5-mer_window0_AGACT\n",
            "5-mer_window0_GAACA\n",
            "5-mer_window0_GAACC\n",
            "5-mer_window0_GAACT\n",
            "5-mer_window0_GGACA\n",
            "5-mer_window0_GGACC\n",
            "5-mer_window0_GGACT\n",
            "5-mer_window0_TAACA\n",
            "5-mer_window0_TAACC\n",
            "5-mer_window0_TAACT\n",
            "5-mer_window0_TGACA\n",
            "5-mer_window0_TGACC\n",
            "5-mer_window0_TGACT\n",
            "5-mer_window1_AACAA\n",
            "5-mer_window1_AACAC\n",
            "5-mer_window1_AACAG\n",
            "5-mer_window1_AACAT\n",
            "5-mer_window1_AACCA\n",
            "5-mer_window1_AACCC\n",
            "5-mer_window1_AACCG\n",
            "5-mer_window1_AACCT\n",
            "5-mer_window1_AACTA\n",
            "5-mer_window1_AACTC\n",
            "5-mer_window1_AACTG\n",
            "5-mer_window1_AACTT\n",
            "5-mer_window1_GACAA\n",
            "5-mer_window1_GACAC\n",
            "5-mer_window1_GACAG\n",
            "5-mer_window1_GACAT\n",
            "5-mer_window1_GACCA\n",
            "5-mer_window1_GACCC\n",
            "5-mer_window1_GACCG\n",
            "5-mer_window1_GACCT\n",
            "5-mer_window1_GACTA\n",
            "5-mer_window1_GACTC\n",
            "5-mer_window1_GACTG\n",
            "5-mer_window1_GACTT\n",
            "A_freq\n",
            "C_freq\n",
            "G_freq\n",
            "T_freq\n",
            "gene_id\n",
            "label\n"
          ]
        }
      ]
    },
    {
      "cell_type": "code",
      "source": [],
      "metadata": {
        "id": "MSwTsiHE0tvZ"
      },
      "execution_count": null,
      "outputs": []
    }
  ]
}