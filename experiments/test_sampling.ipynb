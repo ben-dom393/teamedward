{
 "cells": [
  {
   "cell_type": "code",
   "execution_count": 2,
   "metadata": {},
   "outputs": [],
   "source": [
    "import imblearn\n",
    "import pandas as pd\n",
    "import numpy as np\n",
    "import sklearn"
   ]
  },
  {
   "cell_type": "markdown",
   "metadata": {},
   "source": [
    "## Load in the data and split into X and Y "
   ]
  },
  {
   "cell_type": "code",
   "execution_count": 65,
   "metadata": {},
   "outputs": [
    {
     "data": {
      "text/html": [
       "<div>\n",
       "<style scoped>\n",
       "    .dataframe tbody tr th:only-of-type {\n",
       "        vertical-align: middle;\n",
       "    }\n",
       "\n",
       "    .dataframe tbody tr th {\n",
       "        vertical-align: top;\n",
       "    }\n",
       "\n",
       "    .dataframe thead th {\n",
       "        text-align: right;\n",
       "    }\n",
       "</style>\n",
       "<table border=\"1\" class=\"dataframe\">\n",
       "  <thead>\n",
       "    <tr style=\"text-align: right;\">\n",
       "      <th></th>\n",
       "      <th>transcript_id</th>\n",
       "      <th>transcript_position</th>\n",
       "      <th>mean_dwell_time_-1</th>\n",
       "      <th>mean_dwell_time_0</th>\n",
       "      <th>mean_dwell_time_1</th>\n",
       "      <th>weighted_mean_-1</th>\n",
       "      <th>weighted_mean_0</th>\n",
       "      <th>weighted_mean_1</th>\n",
       "      <th>weighted_sd_-1</th>\n",
       "      <th>weighted_sd_0</th>\n",
       "      <th>...</th>\n",
       "      <th>5-mer-2_G</th>\n",
       "      <th>5-mer-5_A</th>\n",
       "      <th>5-mer-5_C</th>\n",
       "      <th>5-mer-5_T</th>\n",
       "      <th>5-mer-6_A</th>\n",
       "      <th>5-mer-6_C</th>\n",
       "      <th>5-mer-6_G</th>\n",
       "      <th>5-mer-6_T</th>\n",
       "      <th>gene_id</th>\n",
       "      <th>label</th>\n",
       "    </tr>\n",
       "  </thead>\n",
       "  <tbody>\n",
       "    <tr>\n",
       "      <th>0</th>\n",
       "      <td>ENST00000000233</td>\n",
       "      <td>244</td>\n",
       "      <td>0.008264</td>\n",
       "      <td>0.009373</td>\n",
       "      <td>0.007345</td>\n",
       "      <td>123.762870</td>\n",
       "      <td>125.793483</td>\n",
       "      <td>80.775369</td>\n",
       "      <td>0.515258</td>\n",
       "      <td>0.758299</td>\n",
       "      <td>...</td>\n",
       "      <td>1.0</td>\n",
       "      <td>0.0</td>\n",
       "      <td>1.0</td>\n",
       "      <td>0.0</td>\n",
       "      <td>1.0</td>\n",
       "      <td>0.0</td>\n",
       "      <td>0.0</td>\n",
       "      <td>0.0</td>\n",
       "      <td>ENSG00000004059</td>\n",
       "      <td>0</td>\n",
       "    </tr>\n",
       "    <tr>\n",
       "      <th>1</th>\n",
       "      <td>ENST00000000233</td>\n",
       "      <td>261</td>\n",
       "      <td>0.006609</td>\n",
       "      <td>0.006813</td>\n",
       "      <td>0.007710</td>\n",
       "      <td>109.924484</td>\n",
       "      <td>108.101783</td>\n",
       "      <td>94.108586</td>\n",
       "      <td>0.379088</td>\n",
       "      <td>0.356806</td>\n",
       "      <td>...</td>\n",
       "      <td>0.0</td>\n",
       "      <td>0.0</td>\n",
       "      <td>0.0</td>\n",
       "      <td>1.0</td>\n",
       "      <td>0.0</td>\n",
       "      <td>0.0</td>\n",
       "      <td>1.0</td>\n",
       "      <td>0.0</td>\n",
       "      <td>ENSG00000004059</td>\n",
       "      <td>0</td>\n",
       "    </tr>\n",
       "    <tr>\n",
       "      <th>2</th>\n",
       "      <td>ENST00000000233</td>\n",
       "      <td>316</td>\n",
       "      <td>0.007570</td>\n",
       "      <td>0.007416</td>\n",
       "      <td>0.007555</td>\n",
       "      <td>105.450998</td>\n",
       "      <td>99.426169</td>\n",
       "      <td>89.309704</td>\n",
       "      <td>0.297919</td>\n",
       "      <td>0.364248</td>\n",
       "      <td>...</td>\n",
       "      <td>0.0</td>\n",
       "      <td>1.0</td>\n",
       "      <td>0.0</td>\n",
       "      <td>0.0</td>\n",
       "      <td>0.0</td>\n",
       "      <td>0.0</td>\n",
       "      <td>1.0</td>\n",
       "      <td>0.0</td>\n",
       "      <td>ENSG00000004059</td>\n",
       "      <td>0</td>\n",
       "    </tr>\n",
       "    <tr>\n",
       "      <th>3</th>\n",
       "      <td>ENST00000000233</td>\n",
       "      <td>332</td>\n",
       "      <td>0.010620</td>\n",
       "      <td>0.008632</td>\n",
       "      <td>0.006101</td>\n",
       "      <td>129.548782</td>\n",
       "      <td>97.842815</td>\n",
       "      <td>89.096953</td>\n",
       "      <td>0.507180</td>\n",
       "      <td>0.250571</td>\n",
       "      <td>...</td>\n",
       "      <td>0.0</td>\n",
       "      <td>1.0</td>\n",
       "      <td>0.0</td>\n",
       "      <td>0.0</td>\n",
       "      <td>0.0</td>\n",
       "      <td>0.0</td>\n",
       "      <td>0.0</td>\n",
       "      <td>1.0</td>\n",
       "      <td>ENSG00000004059</td>\n",
       "      <td>0</td>\n",
       "    </tr>\n",
       "    <tr>\n",
       "      <th>4</th>\n",
       "      <td>ENST00000000233</td>\n",
       "      <td>368</td>\n",
       "      <td>0.010701</td>\n",
       "      <td>0.011479</td>\n",
       "      <td>0.010019</td>\n",
       "      <td>118.217577</td>\n",
       "      <td>121.925694</td>\n",
       "      <td>84.996204</td>\n",
       "      <td>0.659407</td>\n",
       "      <td>0.498776</td>\n",
       "      <td>...</td>\n",
       "      <td>1.0</td>\n",
       "      <td>1.0</td>\n",
       "      <td>0.0</td>\n",
       "      <td>0.0</td>\n",
       "      <td>1.0</td>\n",
       "      <td>0.0</td>\n",
       "      <td>0.0</td>\n",
       "      <td>0.0</td>\n",
       "      <td>ENSG00000004059</td>\n",
       "      <td>0</td>\n",
       "    </tr>\n",
       "  </tbody>\n",
       "</table>\n",
       "<p>5 rows × 29 columns</p>\n",
       "</div>"
      ],
      "text/plain": [
       "     transcript_id  transcript_position  mean_dwell_time_-1  \\\n",
       "0  ENST00000000233                  244            0.008264   \n",
       "1  ENST00000000233                  261            0.006609   \n",
       "2  ENST00000000233                  316            0.007570   \n",
       "3  ENST00000000233                  332            0.010620   \n",
       "4  ENST00000000233                  368            0.010701   \n",
       "\n",
       "   mean_dwell_time_0  mean_dwell_time_1  weighted_mean_-1  weighted_mean_0  \\\n",
       "0           0.009373           0.007345        123.762870       125.793483   \n",
       "1           0.006813           0.007710        109.924484       108.101783   \n",
       "2           0.007416           0.007555        105.450998        99.426169   \n",
       "3           0.008632           0.006101        129.548782        97.842815   \n",
       "4           0.011479           0.010019        118.217577       121.925694   \n",
       "\n",
       "   weighted_mean_1  weighted_sd_-1  weighted_sd_0  ...  5-mer-2_G  5-mer-5_A  \\\n",
       "0        80.775369        0.515258       0.758299  ...        1.0        0.0   \n",
       "1        94.108586        0.379088       0.356806  ...        0.0        0.0   \n",
       "2        89.309704        0.297919       0.364248  ...        0.0        1.0   \n",
       "3        89.096953        0.507180       0.250571  ...        0.0        1.0   \n",
       "4        84.996204        0.659407       0.498776  ...        1.0        1.0   \n",
       "\n",
       "   5-mer-5_C  5-mer-5_T  5-mer-6_A  5-mer-6_C  5-mer-6_G  5-mer-6_T  \\\n",
       "0        1.0        0.0        1.0        0.0        0.0        0.0   \n",
       "1        0.0        1.0        0.0        0.0        1.0        0.0   \n",
       "2        0.0        0.0        0.0        0.0        1.0        0.0   \n",
       "3        0.0        0.0        0.0        0.0        0.0        1.0   \n",
       "4        0.0        0.0        1.0        0.0        0.0        0.0   \n",
       "\n",
       "           gene_id  label  \n",
       "0  ENSG00000004059      0  \n",
       "1  ENSG00000004059      0  \n",
       "2  ENSG00000004059      0  \n",
       "3  ENSG00000004059      0  \n",
       "4  ENSG00000004059      0  \n",
       "\n",
       "[5 rows x 29 columns]"
      ]
     },
     "execution_count": 65,
     "metadata": {},
     "output_type": "execute_result"
    }
   ],
   "source": [
    "train_data = pd.read_csv(\"../data/label_df_train.csv\")\n",
    "val_data = pd.read_csv(\"../data/label_df_valid.csv\")\n",
    "\n",
    "train_data.head()"
   ]
  },
  {
   "cell_type": "code",
   "execution_count": 66,
   "metadata": {},
   "outputs": [
    {
     "name": "stdout",
     "output_type": "stream",
     "text": [
      "(97040, 26)\n",
      "(97040, 1)\n"
     ]
    }
   ],
   "source": [
    "x_train = train_data.drop(columns = [\"label\",\"transcript_id\",\"gene_id\"])\n",
    "y_train = train_data[['label']]\n",
    "print(x_train.shape)\n",
    "print(y_train.shape)"
   ]
  },
  {
   "cell_type": "code",
   "execution_count": 67,
   "metadata": {},
   "outputs": [],
   "source": [
    "x_val = val_data.drop(columns = [\"label\",\"transcript_id\",\"gene_id\"])\n",
    "y_val = val_data[[\"label\"]]"
   ]
  },
  {
   "cell_type": "markdown",
   "metadata": {},
   "source": [
    "# Ratio of positive to negative examples"
   ]
  },
  {
   "cell_type": "code",
   "execution_count": 68,
   "metadata": {},
   "outputs": [
    {
     "name": "stdout",
     "output_type": "stream",
     "text": [
      "0.0474617618168669\n"
     ]
    }
   ],
   "source": [
    "positive_count = len(y_train[y_train['label'] == 1])\n",
    "negative_count = len(y_train[y_train['label'] == 0])\n",
    "print(positive_count/negative_count)"
   ]
  },
  {
   "cell_type": "markdown",
   "metadata": {},
   "source": [
    "## Oversample to 1:1\n"
   ]
  },
  {
   "cell_type": "code",
   "execution_count": 69,
   "metadata": {},
   "outputs": [],
   "source": [
    "ros = imblearn.over_sampling.RandomOverSampler(random_state=4266)\n",
    "x_resampled , y_resampled = ros.fit_resample(x_train,y_train)"
   ]
  },
  {
   "cell_type": "code",
   "execution_count": 70,
   "metadata": {},
   "outputs": [
    {
     "name": "stdout",
     "output_type": "stream",
     "text": [
      "(185286, 26)\n",
      "(185286, 1)\n"
     ]
    }
   ],
   "source": [
    "print(x_resampled.shape)\n",
    "print(y_resampled.shape)"
   ]
  },
  {
   "cell_type": "code",
   "execution_count": 26,
   "metadata": {},
   "outputs": [
    {
     "name": "stdout",
     "output_type": "stream",
     "text": [
      "1.0\n"
     ]
    }
   ],
   "source": [
    "positive_count = len(y_resampled[y_resampled['label'] == 1])\n",
    "negative_count = len(y_resampled[y_resampled['label'] == 0])\n",
    "print(positive_count/negative_count)"
   ]
  },
  {
   "cell_type": "markdown",
   "metadata": {},
   "source": [
    "Test Model\n"
   ]
  },
  {
   "cell_type": "code",
   "execution_count": 33,
   "metadata": {},
   "outputs": [],
   "source": [
    "from sklearn.neural_network import MLPClassifier\n",
    "from sklearn.metrics import accuracy_score"
   ]
  },
  {
   "cell_type": "code",
   "execution_count": 33,
   "metadata": {},
   "outputs": [
    {
     "name": "stderr",
     "output_type": "stream",
     "text": [
      "C:\\Users\\zacwo\\AppData\\Local\\Packages\\PythonSoftwareFoundation.Python.3.10_qbz5n2kfra8p0\\LocalCache\\local-packages\\Python310\\site-packages\\sklearn\\neural_network\\_multilayer_perceptron.py:1109: DataConversionWarning: A column-vector y was passed when a 1d array was expected. Please change the shape of y to (n_samples, ), for example using ravel().\n",
      "  y = column_or_1d(y, warn=True)\n",
      "C:\\Users\\zacwo\\AppData\\Local\\Packages\\PythonSoftwareFoundation.Python.3.10_qbz5n2kfra8p0\\LocalCache\\local-packages\\Python310\\site-packages\\sklearn\\neural_network\\_multilayer_perceptron.py:692: ConvergenceWarning: Stochastic Optimizer: Maximum iterations (100) reached and the optimization hasn't converged yet.\n",
      "  warnings.warn(\n"
     ]
    },
    {
     "data": {
      "text/plain": [
       "MLPClassifier(hidden_layer_sizes=(100, 50), max_iter=100, random_state=4266)"
      ]
     },
     "execution_count": 33,
     "metadata": {},
     "output_type": "execute_result"
    }
   ],
   "source": [
    "# Create an MLP Classifier with desired hyperparameters\n",
    "mlp_classifier = MLPClassifier(hidden_layer_sizes=(100, 50), max_iter=100, random_state=4266)\n",
    "# Train the classifier on your training data\n",
    "mlp_classifier.fit(x_resampled, y_resampled)"
   ]
  },
  {
   "cell_type": "code",
   "execution_count": 44,
   "metadata": {},
   "outputs": [],
   "source": [
    "y_pred = mlp_classifier.predict(x_val)\n",
    "y_pred_prob = mlp_classifier.predict_proba(x_val)"
   ]
  },
  {
   "cell_type": "code",
   "execution_count": 42,
   "metadata": {},
   "outputs": [
    {
     "name": "stdout",
     "output_type": "stream",
     "text": [
      "0.7158238567626422\n"
     ]
    }
   ],
   "source": [
    "accuracy = accuracy_score(y_val, y_pred)\n",
    "\n",
    "print(accuracy)\n"
   ]
  },
  {
   "cell_type": "code",
   "execution_count": 45,
   "metadata": {},
   "outputs": [
    {
     "data": {
      "image/png": "[encoded data removed]",
      "text/plain": [
       "<Figure size 576x432 with 1 Axes>"
      ]
     },
     "metadata": {
      "needs_background": "light"
     },
     "output_type": "display_data"
    }
   ],
   "source": [
    "from sklearn.metrics import roc_auc_score, roc_curve, auc\n",
    "import matplotlib.pyplot as plt\n",
    "\n",
    "# Calculate ROC AUC\n",
    "roc_auc = roc_auc_score(y_val, y_pred_prob[:, 1])\n",
    "\n",
    "# Get ROC curve values\n",
    "fpr, tpr, _ = roc_curve(y_val, y_pred_prob[:, 1])\n",
    "\n",
    "# Plot ROC curve\n",
    "plt.figure(figsize=(8, 6))\n",
    "plt.plot(fpr, tpr, color='darkorange', lw=2, label='ROC curve (area = %0.2f)' % roc_auc)\n",
    "plt.plot([0, 1], [0, 1], color='navy', lw=2, linestyle='--')\n",
    "plt.xlim([0.0, 1.0])\n",
    "plt.ylim([0.0, 1.05])\n",
    "plt.xlabel('False Positive Rate')\n",
    "plt.ylabel('True Positive Rate')\n",
    "plt.title('Receiver Operating Characteristic (ROC) Curve')\n",
    "plt.legend(loc='lower right')\n",
    "plt.show()\n"
   ]
  },
  {
   "cell_type": "code",
   "execution_count": 46,
   "metadata": {},
   "outputs": [
    {
     "data": {
      "image/png": "[encoded data removed]",
      "text/plain": [
       "<Figure size 576x432 with 1 Axes>"
      ]
     },
     "metadata": {
      "needs_background": "light"
     },
     "output_type": "display_data"
    }
   ],
   "source": [
    "from sklearn.metrics import precision_recall_curve, average_precision_score\n",
    "import matplotlib.pyplot as plt\n",
    "\n",
    "# Calculate PR AUC\n",
    "pr_auc = average_precision_score(y_val, y_pred_prob[:, 1])\n",
    "\n",
    "# Get precision-recall curve values\n",
    "precision, recall, _ = precision_recall_curve(y_val, y_pred_prob[:, 1])\n",
    "\n",
    "# Plot precision-recall curve\n",
    "plt.figure(figsize=(8, 6))\n",
    "plt.step(recall, precision, color='b', alpha=0.2, where='post')\n",
    "plt.fill_between(recall, precision, step='post', alpha=0.2, color='b')\n",
    "plt.xlabel('Recall')\n",
    "plt.ylabel('Precision')\n",
    "plt.title('Precision-Recall Curve (PR AUC = %0.2f)' % pr_auc)\n",
    "plt.xlim([0.0, 1.0])\n",
    "plt.ylim([0.0, 1.05])\n",
    "plt.show()\n"
   ]
  },
  {
   "cell_type": "markdown",
   "metadata": {},
   "source": [
    "# Undersample 1:4"
   ]
  },
  {
   "cell_type": "code",
   "execution_count": 55,
   "metadata": {},
   "outputs": [],
   "source": [
    "undersample = imblearn.under_sampling.NearMiss(sampling_strategy=0.25)\n",
    "x_resampled, y_resampled = undersample.fit_resample(x_train, y_train)"
   ]
  },
  {
   "cell_type": "code",
   "execution_count": 56,
   "metadata": {},
   "outputs": [
    {
     "name": "stdout",
     "output_type": "stream",
     "text": [
      "(21985, 26)\n"
     ]
    }
   ],
   "source": [
    "print(x_resampled.shape)"
   ]
  },
  {
   "cell_type": "code",
   "execution_count": 57,
   "metadata": {},
   "outputs": [
    {
     "name": "stdout",
     "output_type": "stream",
     "text": [
      "0.25\n"
     ]
    }
   ],
   "source": [
    "positive_count = len(y_resampled[y_resampled['label'] == 1])\n",
    "negative_count = len(y_resampled[y_resampled['label'] == 0])\n",
    "print(positive_count/negative_count)"
   ]
  },
  {
   "cell_type": "code",
   "execution_count": 58,
   "metadata": {},
   "outputs": [
    {
     "name": "stderr",
     "output_type": "stream",
     "text": [
      "C:\\Users\\zacwo\\AppData\\Local\\Packages\\PythonSoftwareFoundation.Python.3.10_qbz5n2kfra8p0\\LocalCache\\local-packages\\Python310\\site-packages\\sklearn\\neural_network\\_multilayer_perceptron.py:1109: DataConversionWarning: A column-vector y was passed when a 1d array was expected. Please change the shape of y to (n_samples, ), for example using ravel().\n",
      "  y = column_or_1d(y, warn=True)\n"
     ]
    },
    {
     "data": {
      "text/plain": [
       "MLPClassifier(hidden_layer_sizes=(100, 50), max_iter=100, random_state=4266)"
      ]
     },
     "execution_count": 58,
     "metadata": {},
     "output_type": "execute_result"
    }
   ],
   "source": [
    "# Create an MLP Classifier with desired hyperparameters\n",
    "mlp_classifier = MLPClassifier(hidden_layer_sizes=(100, 50), max_iter=100, random_state=4266)\n",
    "# Train the classifier on your training data\n",
    "mlp_classifier.fit(x_resampled, y_resampled)"
   ]
  },
  {
   "cell_type": "code",
   "execution_count": 59,
   "metadata": {},
   "outputs": [],
   "source": [
    "y_pred = mlp_classifier.predict(x_val)\n",
    "y_pred_prob = mlp_classifier.predict_proba(x_val)"
   ]
  },
  {
   "cell_type": "code",
   "execution_count": 60,
   "metadata": {},
   "outputs": [
    {
     "data": {
      "image/png": "[encoded data removed]",
      "text/plain": [
       "<Figure size 576x432 with 1 Axes>"
      ]
     },
     "metadata": {
      "needs_background": "light"
     },
     "output_type": "display_data"
    }
   ],
   "source": [
    "from sklearn.metrics import roc_auc_score, roc_curve, auc\n",
    "import matplotlib.pyplot as plt\n",
    "\n",
    "# Calculate ROC AUC\n",
    "roc_auc = roc_auc_score(y_val, y_pred_prob[:, 1])\n",
    "\n",
    "# Get ROC curve values\n",
    "fpr, tpr, _ = roc_curve(y_val, y_pred_prob[:, 1])\n",
    "\n",
    "# Plot ROC curve\n",
    "plt.figure(figsize=(8, 6))\n",
    "plt.plot(fpr, tpr, color='darkorange', lw=2, label='ROC curve (area = %0.2f)' % roc_auc)\n",
    "plt.plot([0, 1], [0, 1], color='navy', lw=2, linestyle='--')\n",
    "plt.xlim([0.0, 1.0])\n",
    "plt.ylim([0.0, 1.05])\n",
    "plt.xlabel('False Positive Rate')\n",
    "plt.ylabel('True Positive Rate')\n",
    "plt.title('Receiver Operating Characteristic (ROC) Curve')\n",
    "plt.legend(loc='lower right')\n",
    "plt.show()\n"
   ]
  },
  {
   "cell_type": "code",
   "execution_count": 61,
   "metadata": {},
   "outputs": [
    {
     "data": {
      "image/png": "[encoded data removed]",
      "text/plain": [
       "<Figure size 576x432 with 1 Axes>"
      ]
     },
     "metadata": {
      "needs_background": "light"
     },
     "output_type": "display_data"
    }
   ],
   "source": [
    "from sklearn.metrics import precision_recall_curve, average_precision_score\n",
    "import matplotlib.pyplot as plt\n",
    "\n",
    "# Calculate PR AUC\n",
    "pr_auc = average_precision_score(y_val, y_pred_prob[:, 1])\n",
    "\n",
    "# Get precision-recall curve values\n",
    "precision, recall, _ = precision_recall_curve(y_val, y_pred_prob[:, 1])\n",
    "\n",
    "# Plot precision-recall curve\n",
    "plt.figure(figsize=(8, 6))\n",
    "plt.step(recall, precision, color='b', alpha=0.2, where='post')\n",
    "plt.fill_between(recall, precision, step='post', alpha=0.2, color='b')\n",
    "plt.xlabel('Recall')\n",
    "plt.ylabel('Precision')\n",
    "plt.title('Precision-Recall Curve (PR AUC = %0.2f)' % pr_auc)\n",
    "plt.xlim([0.0, 1.0])\n",
    "plt.ylim([0.0, 1.05])\n",
    "plt.show()\n"
   ]
  },
  {
   "cell_type": "markdown",
   "metadata": {},
   "source": [
    "## Conclusive that undersampling is not effective by itself, since the absolute number of positive examples is too little.\n"
   ]
  },
  {
   "cell_type": "markdown",
   "metadata": {},
   "source": [
    "## Try over and undersampling at the same time (SMOTEENN)"
   ]
  },
  {
   "cell_type": "code",
   "execution_count": 85,
   "metadata": {},
   "outputs": [],
   "source": [
    "smote_enn = imblearn.combine.SMOTEENN(sampling_strategy=0.7) \n"
   ]
  },
  {
   "cell_type": "code",
   "execution_count": 86,
   "metadata": {},
   "outputs": [
    {
     "name": "stdout",
     "output_type": "stream",
     "text": [
      "(132127, 26)\n"
     ]
    }
   ],
   "source": [
    "x_resampled, y_resampled = smote_enn.fit_resample(x_train, y_train)\n",
    "print(x_resampled.shape)"
   ]
  },
  {
   "cell_type": "code",
   "execution_count": 87,
   "metadata": {},
   "outputs": [
    {
     "name": "stdout",
     "output_type": "stream",
     "text": [
      "0.8200063363499869\n"
     ]
    }
   ],
   "source": [
    "positive_count = len(y_resampled[y_resampled['label'] == 1])\n",
    "negative_count = len(y_resampled[y_resampled['label'] == 0])\n",
    "print(positive_count/negative_count)"
   ]
  },
  {
   "cell_type": "code",
   "execution_count": 88,
   "metadata": {},
   "outputs": [
    {
     "name": "stderr",
     "output_type": "stream",
     "text": [
      "C:\\Users\\zacwo\\AppData\\Local\\Packages\\PythonSoftwareFoundation.Python.3.10_qbz5n2kfra8p0\\LocalCache\\local-packages\\Python310\\site-packages\\sklearn\\neural_network\\_multilayer_perceptron.py:1109: DataConversionWarning: A column-vector y was passed when a 1d array was expected. Please change the shape of y to (n_samples, ), for example using ravel().\n",
      "  y = column_or_1d(y, warn=True)\n",
      "C:\\Users\\zacwo\\AppData\\Local\\Packages\\PythonSoftwareFoundation.Python.3.10_qbz5n2kfra8p0\\LocalCache\\local-packages\\Python310\\site-packages\\sklearn\\neural_network\\_multilayer_perceptron.py:692: ConvergenceWarning: Stochastic Optimizer: Maximum iterations (100) reached and the optimization hasn't converged yet.\n",
      "  warnings.warn(\n"
     ]
    },
    {
     "data": {
      "text/plain": [
       "MLPClassifier(hidden_layer_sizes=(100, 50), max_iter=100, random_state=4266)"
      ]
     },
     "execution_count": 88,
     "metadata": {},
     "output_type": "execute_result"
    }
   ],
   "source": [
    "# Create an MLP Classifier with desired hyperparameters\n",
    "mlp_classifier = MLPClassifier(hidden_layer_sizes=(100, 50), max_iter=100, random_state=4266)\n",
    "# Train the classifier on your training data\n",
    "mlp_classifier.fit(x_resampled, y_resampled)"
   ]
  },
  {
   "cell_type": "code",
   "execution_count": 89,
   "metadata": {},
   "outputs": [],
   "source": [
    "y_pred = mlp_classifier.predict(x_val)\n",
    "y_pred_prob = mlp_classifier.predict_proba(x_val)"
   ]
  },
  {
   "cell_type": "code",
   "execution_count": 90,
   "metadata": {},
   "outputs": [
    {
     "data": {
      "image/png": "[encoded data removed]",
      "text/plain": [
       "<Figure size 576x432 with 1 Axes>"
      ]
     },
     "metadata": {
      "needs_background": "light"
     },
     "output_type": "display_data"
    }
   ],
   "source": [
    "from sklearn.metrics import roc_auc_score, roc_curve, auc\n",
    "import matplotlib.pyplot as plt\n",
    "\n",
    "# Calculate ROC AUC\n",
    "roc_auc = roc_auc_score(y_val, y_pred_prob[:, 1])\n",
    "\n",
    "# Get ROC curve values\n",
    "fpr, tpr, _ = roc_curve(y_val, y_pred_prob[:, 1])\n",
    "\n",
    "# Plot ROC curve\n",
    "plt.figure(figsize=(8, 6))\n",
    "plt.plot(fpr, tpr, color='darkorange', lw=2, label='ROC curve (area = %0.2f)' % roc_auc)\n",
    "plt.plot([0, 1], [0, 1], color='navy', lw=2, linestyle='--')\n",
    "plt.xlim([0.0, 1.0])\n",
    "plt.ylim([0.0, 1.05])\n",
    "plt.xlabel('False Positive Rate')\n",
    "plt.ylabel('True Positive Rate')\n",
    "plt.title('Receiver Operating Characteristic (ROC) Curve')\n",
    "plt.legend(loc='lower right')\n",
    "plt.show()\n"
   ]
  },
  {
   "cell_type": "code",
   "execution_count": 91,
   "metadata": {},
   "outputs": [
    {
     "data": {
      "image/png": "[encoded data removed]",
      "text/plain": [
       "<Figure size 576x432 with 1 Axes>"
      ]
     },
     "metadata": {
      "needs_background": "light"
     },
     "output_type": "display_data"
    }
   ],
   "source": [
    "from sklearn.metrics import precision_recall_curve, average_precision_score\n",
    "import matplotlib.pyplot as plt\n",
    "\n",
    "# Calculate PR AUC\n",
    "pr_auc = average_precision_score(y_val, y_pred_prob[:, 1])\n",
    "\n",
    "# Get precision-recall curve values\n",
    "precision, recall, _ = precision_recall_curve(y_val, y_pred_prob[:, 1])\n",
    "\n",
    "# Plot precision-recall curve\n",
    "plt.figure(figsize=(8, 6))\n",
    "plt.step(recall, precision, color='b', alpha=0.2, where='post')\n",
    "plt.fill_between(recall, precision, step='post', alpha=0.2, color='b')\n",
    "plt.xlabel('Recall')\n",
    "plt.ylabel('Precision')\n",
    "plt.title('Precision-Recall Curve (PR AUC = %0.2f)' % pr_auc)\n",
    "plt.xlim([0.0, 1.0])\n",
    "plt.ylim([0.0, 1.05])\n",
    "plt.show()\n"
   ]
  },
  {
   "cell_type": "markdown",
   "metadata": {},
   "source": [
    "# Testing synthetic data create by sampling 15 reads per positive example"
   ]
  },
  {
   "cell_type": "code",
   "execution_count": 3,
   "metadata": {},
   "outputs": [
    {
     "data": {
      "text/html": [
       "<div>\n",
       "<style scoped>\n",
       "    .dataframe tbody tr th:only-of-type {\n",
       "        vertical-align: middle;\n",
       "    }\n",
       "\n",
       "    .dataframe tbody tr th {\n",
       "        vertical-align: top;\n",
       "    }\n",
       "\n",
       "    .dataframe thead th {\n",
       "        text-align: right;\n",
       "    }\n",
       "</style>\n",
       "<table border=\"1\" class=\"dataframe\">\n",
       "  <thead>\n",
       "    <tr style=\"text-align: right;\">\n",
       "      <th></th>\n",
       "      <th>transcript_id</th>\n",
       "      <th>transcript_position</th>\n",
       "      <th>gene_id</th>\n",
       "      <th>label</th>\n",
       "      <th>dwell_time_-1</th>\n",
       "      <th>sd_-1</th>\n",
       "      <th>mean_-1</th>\n",
       "      <th>dwell_time_0</th>\n",
       "      <th>sd_0</th>\n",
       "      <th>mean_0</th>\n",
       "      <th>...</th>\n",
       "      <th>5-mer-1_G</th>\n",
       "      <th>5-mer-2_A</th>\n",
       "      <th>5-mer-2_G</th>\n",
       "      <th>5-mer-5_A</th>\n",
       "      <th>5-mer-5_C</th>\n",
       "      <th>5-mer-5_T</th>\n",
       "      <th>5-mer-6_A</th>\n",
       "      <th>5-mer-6_C</th>\n",
       "      <th>5-mer-6_T</th>\n",
       "      <th>5-mer-6_G</th>\n",
       "    </tr>\n",
       "  </thead>\n",
       "  <tbody>\n",
       "    <tr>\n",
       "      <th>0</th>\n",
       "      <td>ENST00000393812</td>\n",
       "      <td>619</td>\n",
       "      <td>ENSG00000157593</td>\n",
       "      <td>1</td>\n",
       "      <td>0.006209</td>\n",
       "      <td>7.566667</td>\n",
       "      <td>118.466667</td>\n",
       "      <td>0.006304</td>\n",
       "      <td>3.510000</td>\n",
       "      <td>97.106667</td>\n",
       "      <td>...</td>\n",
       "      <td>1</td>\n",
       "      <td>1</td>\n",
       "      <td>0</td>\n",
       "      <td>0</td>\n",
       "      <td>1</td>\n",
       "      <td>0</td>\n",
       "      <td>0</td>\n",
       "      <td>0</td>\n",
       "      <td>0</td>\n",
       "      <td>1</td>\n",
       "    </tr>\n",
       "    <tr>\n",
       "      <th>1</th>\n",
       "      <td>ENST00000341116</td>\n",
       "      <td>1210</td>\n",
       "      <td>ENSG00000128309</td>\n",
       "      <td>1</td>\n",
       "      <td>0.013931</td>\n",
       "      <td>5.706667</td>\n",
       "      <td>115.533333</td>\n",
       "      <td>0.009088</td>\n",
       "      <td>4.492000</td>\n",
       "      <td>116.466667</td>\n",
       "      <td>...</td>\n",
       "      <td>1</td>\n",
       "      <td>0</td>\n",
       "      <td>1</td>\n",
       "      <td>1</td>\n",
       "      <td>0</td>\n",
       "      <td>0</td>\n",
       "      <td>0</td>\n",
       "      <td>1</td>\n",
       "      <td>0</td>\n",
       "      <td>0</td>\n",
       "    </tr>\n",
       "    <tr>\n",
       "      <th>2</th>\n",
       "      <td>ENST00000322157</td>\n",
       "      <td>3101</td>\n",
       "      <td>ENSG00000141279</td>\n",
       "      <td>1</td>\n",
       "      <td>0.009081</td>\n",
       "      <td>2.058000</td>\n",
       "      <td>101.920000</td>\n",
       "      <td>0.008111</td>\n",
       "      <td>3.222000</td>\n",
       "      <td>100.020000</td>\n",
       "      <td>...</td>\n",
       "      <td>0</td>\n",
       "      <td>1</td>\n",
       "      <td>0</td>\n",
       "      <td>0</td>\n",
       "      <td>1</td>\n",
       "      <td>0</td>\n",
       "      <td>1</td>\n",
       "      <td>0</td>\n",
       "      <td>0</td>\n",
       "      <td>0</td>\n",
       "    </tr>\n",
       "    <tr>\n",
       "      <th>3</th>\n",
       "      <td>ENST00000371696</td>\n",
       "      <td>924</td>\n",
       "      <td>ENSG00000169692</td>\n",
       "      <td>1</td>\n",
       "      <td>0.008301</td>\n",
       "      <td>3.338000</td>\n",
       "      <td>96.906667</td>\n",
       "      <td>0.007269</td>\n",
       "      <td>5.936667</td>\n",
       "      <td>119.400000</td>\n",
       "      <td>...</td>\n",
       "      <td>0</td>\n",
       "      <td>0</td>\n",
       "      <td>1</td>\n",
       "      <td>0</td>\n",
       "      <td>1</td>\n",
       "      <td>0</td>\n",
       "      <td>0</td>\n",
       "      <td>0</td>\n",
       "      <td>1</td>\n",
       "      <td>0</td>\n",
       "    </tr>\n",
       "    <tr>\n",
       "      <th>4</th>\n",
       "      <td>ENST00000343820</td>\n",
       "      <td>1438</td>\n",
       "      <td>ENSG00000177426</td>\n",
       "      <td>1</td>\n",
       "      <td>0.007910</td>\n",
       "      <td>6.236000</td>\n",
       "      <td>115.266667</td>\n",
       "      <td>0.010421</td>\n",
       "      <td>5.457333</td>\n",
       "      <td>113.266667</td>\n",
       "      <td>...</td>\n",
       "      <td>1</td>\n",
       "      <td>0</td>\n",
       "      <td>1</td>\n",
       "      <td>1</td>\n",
       "      <td>0</td>\n",
       "      <td>0</td>\n",
       "      <td>0</td>\n",
       "      <td>1</td>\n",
       "      <td>0</td>\n",
       "      <td>0</td>\n",
       "    </tr>\n",
       "  </tbody>\n",
       "</table>\n",
       "<p>5 rows × 29 columns</p>\n",
       "</div>"
      ],
      "text/plain": [
       "     transcript_id  transcript_position          gene_id  label  \\\n",
       "0  ENST00000393812                  619  ENSG00000157593      1   \n",
       "1  ENST00000341116                 1210  ENSG00000128309      1   \n",
       "2  ENST00000322157                 3101  ENSG00000141279      1   \n",
       "3  ENST00000371696                  924  ENSG00000169692      1   \n",
       "4  ENST00000343820                 1438  ENSG00000177426      1   \n",
       "\n",
       "   dwell_time_-1     sd_-1     mean_-1  dwell_time_0      sd_0      mean_0  \\\n",
       "0       0.006209  7.566667  118.466667      0.006304  3.510000   97.106667   \n",
       "1       0.013931  5.706667  115.533333      0.009088  4.492000  116.466667   \n",
       "2       0.009081  2.058000  101.920000      0.008111  3.222000  100.020000   \n",
       "3       0.008301  3.338000   96.906667      0.007269  5.936667  119.400000   \n",
       "4       0.007910  6.236000  115.266667      0.010421  5.457333  113.266667   \n",
       "\n",
       "   ...  5-mer-1_G  5-mer-2_A  5-mer-2_G  5-mer-5_A  5-mer-5_C  5-mer-5_T  \\\n",
       "0  ...          1          1          0          0          1          0   \n",
       "1  ...          1          0          1          1          0          0   \n",
       "2  ...          0          1          0          0          1          0   \n",
       "3  ...          0          0          1          0          1          0   \n",
       "4  ...          1          0          1          1          0          0   \n",
       "\n",
       "   5-mer-6_A  5-mer-6_C  5-mer-6_T  5-mer-6_G  \n",
       "0          0          0          0          1  \n",
       "1          0          1          0          0  \n",
       "2          1          0          0          0  \n",
       "3          0          0          1          0  \n",
       "4          0          1          0          0  \n",
       "\n",
       "[5 rows x 29 columns]"
      ]
     },
     "execution_count": 3,
     "metadata": {},
     "output_type": "execute_result"
    }
   ],
   "source": [
    "train_data = pd.read_csv(\"../data/train_synth_data.csv\")\n",
    "val_data = pd.read_csv(\"../data/test_synth_data.csv\")\n",
    "\n",
    "train_data.head()"
   ]
  },
  {
   "cell_type": "code",
   "execution_count": 4,
   "metadata": {},
   "outputs": [
    {
     "name": "stdout",
     "output_type": "stream",
     "text": [
      "(186110, 26)\n",
      "(186110, 1)\n"
     ]
    }
   ],
   "source": [
    "x_train = train_data.drop(columns = [\"label\",\"transcript_id\",\"gene_id\"])\n",
    "y_train = train_data[['label']]\n",
    "print(x_train.shape)\n",
    "print(y_train.shape)"
   ]
  },
  {
   "cell_type": "code",
   "execution_count": 5,
   "metadata": {},
   "outputs": [],
   "source": [
    "x_val = val_data.drop(columns = [\"label\",\"transcript_id\",\"gene_id\"])\n",
    "y_val = val_data[[\"label\"]]"
   ]
  },
  {
   "cell_type": "code",
   "execution_count": 6,
   "metadata": {},
   "outputs": [
    {
     "name": "stdout",
     "output_type": "stream",
     "text": [
      "1.0\n"
     ]
    }
   ],
   "source": [
    "positive_count = len(y_train[y_train['label'] == 1])\n",
    "negative_count = len(y_train[y_train['label'] == 0])\n",
    "print(positive_count/negative_count)"
   ]
  },
  {
   "cell_type": "code",
   "execution_count": 7,
   "metadata": {},
   "outputs": [],
   "source": [
    "from sklearn.neural_network import MLPClassifier\n",
    "from sklearn.metrics import accuracy_score"
   ]
  },
  {
   "cell_type": "code",
   "execution_count": 13,
   "metadata": {},
   "outputs": [
    {
     "name": "stderr",
     "output_type": "stream",
     "text": [
      "C:\\Users\\zacwo\\AppData\\Local\\Packages\\PythonSoftwareFoundation.Python.3.10_qbz5n2kfra8p0\\LocalCache\\local-packages\\Python310\\site-packages\\sklearn\\neural_network\\_multilayer_perceptron.py:1109: DataConversionWarning: A column-vector y was passed when a 1d array was expected. Please change the shape of y to (n_samples, ), for example using ravel().\n",
      "  y = column_or_1d(y, warn=True)\n",
      "C:\\Users\\zacwo\\AppData\\Local\\Packages\\PythonSoftwareFoundation.Python.3.10_qbz5n2kfra8p0\\LocalCache\\local-packages\\Python310\\site-packages\\sklearn\\neural_network\\_multilayer_perceptron.py:692: ConvergenceWarning: Stochastic Optimizer: Maximum iterations (100) reached and the optimization hasn't converged yet.\n",
      "  warnings.warn(\n"
     ]
    },
    {
     "data": {
      "text/plain": [
       "MLPClassifier(hidden_layer_sizes=(100, 50), max_iter=100, random_state=4266)"
      ]
     },
     "execution_count": 13,
     "metadata": {},
     "output_type": "execute_result"
    }
   ],
   "source": [
    "# Create an MLP Classifier with desired hyperparameters\n",
    "mlp_classifier = MLPClassifier(hidden_layer_sizes=(100, 50), max_iter=100, random_state=4266)\n",
    "# Train the classifier on your training data\n",
    "mlp_classifier.fit(x_train, y_train)"
   ]
  },
  {
   "cell_type": "code",
   "execution_count": 16,
   "metadata": {},
   "outputs": [],
   "source": [
    "y_pred = mlp_classifier.predict(x_val)\n",
    "y_pred_prob = mlp_classifier.predict_proba(x_val)"
   ]
  },
  {
   "cell_type": "code",
   "execution_count": 17,
   "metadata": {},
   "outputs": [
    {
     "data": {
      "image/png": "[encoded data removed]",
      "text/plain": [
       "<Figure size 576x432 with 1 Axes>"
      ]
     },
     "metadata": {
      "needs_background": "light"
     },
     "output_type": "display_data"
    }
   ],
   "source": [
    "from sklearn.metrics import roc_auc_score, roc_curve, auc\n",
    "import matplotlib.pyplot as plt\n",
    "\n",
    "# Calculate ROC AUC\n",
    "roc_auc = roc_auc_score(y_val, y_pred_prob[:, 1])\n",
    "\n",
    "# Get ROC curve values\n",
    "fpr, tpr, _ = roc_curve(y_val, y_pred_prob[:, 1])\n",
    "\n",
    "# Plot ROC curve\n",
    "plt.figure(figsize=(8, 6))\n",
    "plt.plot(fpr, tpr, color='darkorange', lw=2, label='ROC curve (area = %0.2f)' % roc_auc)\n",
    "plt.plot([0, 1], [0, 1], color='navy', lw=2, linestyle='--')\n",
    "plt.xlim([0.0, 1.0])\n",
    "plt.ylim([0.0, 1.05])\n",
    "plt.xlabel('False Positive Rate')\n",
    "plt.ylabel('True Positive Rate')\n",
    "plt.title('Receiver Operating Characteristic (ROC) Curve')\n",
    "plt.legend(loc='lower right')\n",
    "plt.show()\n"
   ]
  },
  {
   "cell_type": "code",
   "execution_count": 18,
   "metadata": {},
   "outputs": [
    {
     "data": {
      "image/png": "[encoded data removed]",
      "text/plain": [
       "<Figure size 576x432 with 1 Axes>"
      ]
     },
     "metadata": {
      "needs_background": "light"
     },
     "output_type": "display_data"
    }
   ],
   "source": [
    "from sklearn.metrics import precision_recall_curve, average_precision_score\n",
    "import matplotlib.pyplot as plt\n",
    "\n",
    "# Calculate PR AUC\n",
    "pr_auc = average_precision_score(y_val, y_pred_prob[:, 1])\n",
    "\n",
    "# Get precision-recall curve values\n",
    "precision, recall, _ = precision_recall_curve(y_val, y_pred_prob[:, 1])\n",
    "\n",
    "# Plot precision-recall curve\n",
    "plt.figure(figsize=(8, 6))\n",
    "plt.step(recall, precision, color='b', alpha=0.2, where='post')\n",
    "plt.fill_between(recall, precision, step='post', alpha=0.2, color='b')\n",
    "plt.xlabel('Recall')\n",
    "plt.ylabel('Precision')\n",
    "plt.title('Precision-Recall Curve (PR AUC = %0.2f)' % pr_auc)\n",
    "plt.xlim([0.0, 1.0])\n",
    "plt.ylim([0.0, 1.05])\n",
    "plt.show()\n"
   ]
  },
  {
   "cell_type": "markdown",
   "metadata": {},
   "source": [
    "Model test\n"
   ]
  },
  {
   "cell_type": "code",
   "execution_count": 51,
   "metadata": {},
   "outputs": [
    {
     "name": "stderr",
     "output_type": "stream",
     "text": [
      "C:\\Users\\zacwo\\AppData\\Local\\Packages\\PythonSoftwareFoundation.Python.3.10_qbz5n2kfra8p0\\LocalCache\\local-packages\\Python310\\site-packages\\sklearn\\neural_network\\_multilayer_perceptron.py:1109: DataConversionWarning: A column-vector y was passed when a 1d array was expected. Please change the shape of y to (n_samples, ), for example using ravel().\n",
      "  y = column_or_1d(y, warn=True)\n"
     ]
    },
    {
     "name": "stdout",
     "output_type": "stream",
     "text": [
      "Iteration 1, loss = 2.11484458\n",
      "Iteration 2, loss = 0.62150853\n",
      "Iteration 3, loss = 0.56794787\n",
      "Iteration 4, loss = 0.54135226\n",
      "Iteration 5, loss = 0.54219830\n",
      "Iteration 6, loss = 0.53877747\n",
      "Iteration 7, loss = 0.53919602\n",
      "Iteration 8, loss = 0.52536272\n",
      "Iteration 9, loss = 0.53527989\n",
      "Iteration 10, loss = 0.52451926\n",
      "Iteration 11, loss = 0.52120172\n",
      "Iteration 12, loss = 0.52544190\n",
      "Iteration 13, loss = 0.52543516\n",
      "Iteration 14, loss = 0.53257621\n",
      "Iteration 15, loss = 0.51932029\n",
      "Iteration 16, loss = 0.52916014\n",
      "Iteration 17, loss = 0.51870666\n",
      "Iteration 18, loss = 0.52991909\n",
      "Iteration 19, loss = 0.51731788\n",
      "Iteration 20, loss = 0.51943753\n",
      "Iteration 21, loss = 0.52093060\n",
      "Iteration 22, loss = 0.51993106\n",
      "Iteration 23, loss = 0.52626273\n",
      "Iteration 24, loss = 0.52381110\n",
      "Iteration 25, loss = 0.52037849\n",
      "Iteration 26, loss = 0.51321812\n",
      "Iteration 27, loss = 0.51337080\n",
      "Iteration 28, loss = 0.51321224\n",
      "Iteration 29, loss = 0.51152781\n",
      "Iteration 30, loss = 0.50841296\n",
      "Iteration 31, loss = 0.51207618\n",
      "Iteration 32, loss = 0.50967988\n",
      "Iteration 33, loss = 0.50296263\n",
      "Iteration 34, loss = 0.51319367\n",
      "Iteration 35, loss = 0.50287297\n",
      "Iteration 36, loss = 0.50735781\n",
      "Iteration 37, loss = 0.49862905\n",
      "Iteration 38, loss = 0.50803916\n",
      "Iteration 39, loss = 0.50539496\n",
      "Iteration 40, loss = 0.50026112\n",
      "Iteration 41, loss = 0.50310937\n",
      "Iteration 42, loss = 0.50476100\n",
      "Iteration 43, loss = 0.50001908\n",
      "Iteration 44, loss = 0.50599724\n",
      "Iteration 45, loss = 0.50086873\n",
      "Iteration 46, loss = 0.50052074\n",
      "Iteration 47, loss = 0.50230651\n",
      "Iteration 48, loss = 0.49985416\n",
      "Iteration 49, loss = 0.50507405\n",
      "Iteration 50, loss = 0.49709092\n",
      "Iteration 51, loss = 0.49687643\n",
      "Iteration 52, loss = 0.49551277\n",
      "Iteration 53, loss = 0.49938456\n",
      "Iteration 54, loss = 0.49906135\n",
      "Iteration 55, loss = 0.49807970\n",
      "Iteration 56, loss = 0.49072819\n",
      "Iteration 57, loss = 0.49625810\n",
      "Iteration 58, loss = 0.49414039\n",
      "Iteration 59, loss = 0.49439590\n",
      "Iteration 60, loss = 0.49449162\n",
      "Iteration 61, loss = 0.49396414\n",
      "Iteration 62, loss = 0.49350445\n",
      "Iteration 63, loss = 0.49005661\n",
      "Iteration 64, loss = 0.49339630\n",
      "Iteration 65, loss = 0.49074114\n",
      "Iteration 66, loss = 0.49109211\n",
      "Iteration 67, loss = 0.48747856\n",
      "Iteration 68, loss = 0.48640332\n",
      "Iteration 69, loss = 0.48470372\n",
      "Iteration 70, loss = 0.48068440\n",
      "Iteration 71, loss = 0.47751744\n",
      "Iteration 72, loss = 0.47742674\n",
      "Iteration 73, loss = 0.47831875\n",
      "Iteration 74, loss = 0.47669203\n",
      "Iteration 75, loss = 0.47139999\n",
      "Iteration 76, loss = 0.46951772\n",
      "Iteration 77, loss = 0.47101225\n",
      "Iteration 78, loss = 0.46682356\n",
      "Iteration 79, loss = 0.47109509\n",
      "Iteration 80, loss = 0.46749758\n",
      "Iteration 81, loss = 0.46922856\n",
      "Iteration 82, loss = 0.46790491\n",
      "Iteration 83, loss = 0.46663517\n",
      "Iteration 84, loss = 0.47195934\n",
      "Iteration 85, loss = 0.46372878\n",
      "Iteration 86, loss = 0.46435935\n",
      "Iteration 87, loss = 0.46686053\n",
      "Iteration 88, loss = 0.46256886\n",
      "Iteration 89, loss = 0.46454402\n",
      "Iteration 90, loss = 0.46120501\n",
      "Iteration 91, loss = 0.46512559\n",
      "Iteration 92, loss = 0.46010610\n",
      "Iteration 93, loss = 0.46196143\n",
      "Iteration 94, loss = 0.46589515\n",
      "Iteration 95, loss = 0.46300516\n",
      "Iteration 96, loss = 0.45643507\n",
      "Iteration 97, loss = 0.46112681\n",
      "Iteration 98, loss = 0.45950299\n",
      "Iteration 99, loss = 0.45907776\n",
      "Iteration 100, loss = 0.46008874\n",
      "Iteration 101, loss = 0.45908223\n",
      "Iteration 102, loss = 0.45643036\n",
      "Iteration 103, loss = 0.45507726\n",
      "Iteration 104, loss = 0.45906383\n",
      "Iteration 105, loss = 0.45383757\n",
      "Iteration 106, loss = 0.46130494\n",
      "Iteration 107, loss = 0.45822619\n",
      "Iteration 108, loss = 0.45812087\n",
      "Iteration 109, loss = 0.45824772\n",
      "Iteration 110, loss = 0.45450731\n",
      "Iteration 111, loss = 0.45843751\n",
      "Iteration 112, loss = 0.45633743\n",
      "Iteration 113, loss = 0.45265503\n",
      "Iteration 114, loss = 0.45554645\n",
      "Iteration 115, loss = 0.45345863\n",
      "Iteration 116, loss = 0.45691590\n",
      "Iteration 117, loss = 0.45562272\n",
      "Iteration 118, loss = 0.45093223\n",
      "Iteration 119, loss = 0.45347599\n",
      "Iteration 120, loss = 0.45136658\n",
      "Iteration 121, loss = 0.45256276\n",
      "Iteration 122, loss = 0.44816515\n",
      "Iteration 123, loss = 0.45119328\n",
      "Iteration 124, loss = 0.45259217\n",
      "Iteration 125, loss = 0.45386246\n",
      "Iteration 126, loss = 0.45033109\n",
      "Iteration 127, loss = 0.44613936\n",
      "Iteration 128, loss = 0.44789745\n",
      "Iteration 129, loss = 0.44990965\n",
      "Iteration 130, loss = 0.44939736\n",
      "Iteration 131, loss = 0.45103529\n",
      "Iteration 132, loss = 0.44879470\n",
      "Iteration 133, loss = 0.44668578\n",
      "Iteration 134, loss = 0.45013738\n",
      "Iteration 135, loss = 0.44979476\n",
      "Iteration 136, loss = 0.44783644\n",
      "Iteration 137, loss = 0.45020211\n",
      "Iteration 138, loss = 0.44543513\n",
      "Iteration 139, loss = 0.44718643\n",
      "Iteration 140, loss = 0.44906641\n",
      "Iteration 141, loss = 0.44434298\n",
      "Iteration 142, loss = 0.44663462\n",
      "Iteration 143, loss = 0.44782976\n",
      "Iteration 144, loss = 0.44146730\n",
      "Iteration 145, loss = 0.44779270\n",
      "Iteration 146, loss = 0.44347902\n",
      "Iteration 147, loss = 0.44745264\n",
      "Iteration 148, loss = 0.44595378\n",
      "Iteration 149, loss = 0.44755956\n",
      "Iteration 150, loss = 0.44156965\n",
      "Iteration 151, loss = 0.44448746\n",
      "Iteration 152, loss = 0.44477258\n",
      "Iteration 153, loss = 0.44564818\n",
      "Iteration 154, loss = 0.44240795\n",
      "Iteration 155, loss = 0.44379453\n",
      "Iteration 156, loss = 0.44359972\n",
      "Iteration 157, loss = 0.44045077\n",
      "Iteration 158, loss = 0.44302166\n",
      "Iteration 159, loss = 0.44213317\n",
      "Iteration 160, loss = 0.44183128\n",
      "Iteration 161, loss = 0.44280923\n",
      "Iteration 162, loss = 0.44133912\n",
      "Iteration 163, loss = 0.43910270\n",
      "Iteration 164, loss = 0.44185706\n",
      "Iteration 165, loss = 0.44212164\n",
      "Iteration 166, loss = 0.44129075\n",
      "Iteration 167, loss = 0.43912485\n",
      "Iteration 168, loss = 0.44243243\n",
      "Iteration 169, loss = 0.43806441\n",
      "Iteration 170, loss = 0.43833261\n",
      "Iteration 171, loss = 0.44045542\n",
      "Iteration 172, loss = 0.44116475\n",
      "Iteration 173, loss = 0.44160354\n",
      "Iteration 174, loss = 0.43745963\n",
      "Iteration 175, loss = 0.43890012\n",
      "Iteration 176, loss = 0.43883744\n",
      "Iteration 177, loss = 0.43897265\n",
      "Iteration 178, loss = 0.44069703\n",
      "Iteration 179, loss = 0.44020668\n",
      "Iteration 180, loss = 0.43835319\n",
      "Iteration 181, loss = 0.43997588\n",
      "Iteration 182, loss = 0.43833387\n",
      "Iteration 183, loss = 0.43697372\n",
      "Iteration 184, loss = 0.43971871\n",
      "Iteration 185, loss = 0.43996504\n",
      "Iteration 186, loss = 0.43684679\n",
      "Iteration 187, loss = 0.44165105\n",
      "Iteration 188, loss = 0.44226249\n",
      "Iteration 189, loss = 0.43364872\n",
      "Iteration 190, loss = 0.43631748\n",
      "Iteration 191, loss = 0.43664531\n",
      "Iteration 192, loss = 0.43643866\n",
      "Iteration 193, loss = 0.43468342\n",
      "Iteration 194, loss = 0.43794992\n",
      "Iteration 195, loss = 0.43996099\n",
      "Iteration 196, loss = 0.43672384\n",
      "Iteration 197, loss = 0.43634257\n",
      "Iteration 198, loss = 0.43773448\n",
      "Iteration 199, loss = 0.43639386\n",
      "Iteration 200, loss = 0.43565130\n",
      "Iteration 201, loss = 0.43433930\n",
      "Iteration 202, loss = 0.43698920\n",
      "Iteration 203, loss = 0.43534625\n",
      "Iteration 204, loss = 0.43404720\n",
      "Iteration 205, loss = 0.43526852\n",
      "Iteration 206, loss = 0.43652862\n",
      "Iteration 207, loss = 0.43384887\n",
      "Iteration 208, loss = 0.43595156\n",
      "Iteration 209, loss = 0.43369089\n",
      "Iteration 210, loss = 0.43341525\n",
      "Iteration 211, loss = 0.43436069\n",
      "Iteration 212, loss = 0.43323601\n",
      "Iteration 213, loss = 0.43528141\n",
      "Iteration 214, loss = 0.43776469\n",
      "Iteration 215, loss = 0.43150530\n",
      "Iteration 216, loss = 0.43363191\n",
      "Iteration 217, loss = 0.43375215\n",
      "Iteration 218, loss = 0.43397155\n",
      "Iteration 219, loss = 0.43416065\n",
      "Iteration 220, loss = 0.43616864\n",
      "Iteration 221, loss = 0.43494522\n",
      "Iteration 222, loss = 0.43132055\n",
      "Iteration 223, loss = 0.43645248\n",
      "Iteration 224, loss = 0.43103004\n",
      "Iteration 225, loss = 0.43089002\n",
      "Iteration 226, loss = 0.43162464\n",
      "Iteration 227, loss = 0.43036490\n",
      "Iteration 228, loss = 0.43761490\n",
      "Iteration 229, loss = 0.43598823\n",
      "Iteration 230, loss = 0.43302499\n",
      "Iteration 231, loss = 0.43509920\n",
      "Iteration 232, loss = 0.43223802\n",
      "Iteration 233, loss = 0.43032713\n",
      "Iteration 234, loss = 0.43310384\n",
      "Iteration 235, loss = 0.42992505\n",
      "Iteration 236, loss = 0.43255306\n",
      "Iteration 237, loss = 0.43181614\n",
      "Iteration 238, loss = 0.43633821\n",
      "Iteration 239, loss = 0.43231468\n",
      "Iteration 240, loss = 0.43194549\n",
      "Iteration 241, loss = 0.43488686\n",
      "Iteration 242, loss = 0.43105968\n",
      "Iteration 243, loss = 0.43252669\n",
      "Iteration 244, loss = 0.43288970\n",
      "Iteration 245, loss = 0.42988357\n",
      "Iteration 246, loss = 0.43047090\n",
      "Iteration 247, loss = 0.43111745\n",
      "Iteration 248, loss = 0.43138635\n",
      "Iteration 249, loss = 0.43196379\n",
      "Iteration 250, loss = 0.43189945\n",
      "Iteration 251, loss = 0.43025174\n",
      "Iteration 252, loss = 0.43146032\n",
      "Iteration 253, loss = 0.43471343\n",
      "Iteration 254, loss = 0.43191924\n",
      "Iteration 255, loss = 0.42759510\n",
      "Iteration 256, loss = 0.43077315\n",
      "Iteration 257, loss = 0.43156736\n",
      "Iteration 258, loss = 0.42934056\n",
      "Iteration 259, loss = 0.43184386\n",
      "Iteration 260, loss = 0.43021450\n",
      "Iteration 261, loss = 0.42922216\n",
      "Iteration 262, loss = 0.42904146\n",
      "Iteration 263, loss = 0.43226697\n",
      "Iteration 264, loss = 0.43073168\n",
      "Iteration 265, loss = 0.42966431\n",
      "Iteration 266, loss = 0.43219402\n",
      "Iteration 267, loss = 0.42843617\n",
      "Iteration 268, loss = 0.43348471\n",
      "Iteration 269, loss = 0.42938996\n",
      "Iteration 270, loss = 0.42898328\n",
      "Iteration 271, loss = 0.43059388\n",
      "Iteration 272, loss = 0.42860872\n",
      "Iteration 273, loss = 0.43120547\n",
      "Iteration 274, loss = 0.43089099\n",
      "Iteration 275, loss = 0.43002770\n",
      "Iteration 276, loss = 0.42948893\n",
      "Iteration 277, loss = 0.43010815\n",
      "Iteration 278, loss = 0.43031459\n",
      "Iteration 279, loss = 0.42938043\n",
      "Iteration 280, loss = 0.42674684\n",
      "Iteration 281, loss = 0.43475296\n",
      "Iteration 282, loss = 0.43051358\n",
      "Iteration 283, loss = 0.42933545\n",
      "Iteration 284, loss = 0.42772641\n",
      "Iteration 285, loss = 0.42723114\n",
      "Iteration 286, loss = 0.42820858\n",
      "Iteration 287, loss = 0.42964233\n",
      "Iteration 288, loss = 0.42869167\n",
      "Iteration 289, loss = 0.42754306\n",
      "Iteration 290, loss = 0.42812761\n",
      "Iteration 291, loss = 0.42871275\n",
      "Iteration 292, loss = 0.42643437\n",
      "Iteration 293, loss = 0.42755572\n",
      "Iteration 294, loss = 0.42799909\n",
      "Iteration 295, loss = 0.42987533\n",
      "Iteration 296, loss = 0.42615044\n",
      "Iteration 297, loss = 0.42769717\n",
      "Iteration 298, loss = 0.42812330\n",
      "Iteration 299, loss = 0.42763872\n",
      "Iteration 300, loss = 0.42571200\n",
      "Iteration 301, loss = 0.42787826\n",
      "Iteration 302, loss = 0.42802935\n",
      "Iteration 303, loss = 0.42721548\n",
      "Iteration 304, loss = 0.42601269\n",
      "Iteration 305, loss = 0.42674681\n",
      "Iteration 306, loss = 0.42790504\n",
      "Iteration 307, loss = 0.42595524\n",
      "Iteration 308, loss = 0.42670232\n",
      "Iteration 309, loss = 0.42489372\n",
      "Iteration 310, loss = 0.42491149\n",
      "Iteration 311, loss = 0.42761600\n",
      "Iteration 312, loss = 0.42735003\n",
      "Iteration 313, loss = 0.42579108\n",
      "Iteration 314, loss = 0.42560610\n",
      "Iteration 315, loss = 0.42430797\n",
      "Iteration 316, loss = 0.42725398\n",
      "Iteration 317, loss = 0.42341337\n",
      "Iteration 318, loss = 0.42658014\n",
      "Iteration 319, loss = 0.42558047\n",
      "Iteration 320, loss = 0.42543884\n",
      "Iteration 321, loss = 0.42462081\n",
      "Iteration 322, loss = 0.42783851\n",
      "Iteration 323, loss = 0.42392043\n",
      "Iteration 324, loss = 0.42399201\n",
      "Iteration 325, loss = 0.42504535\n",
      "Iteration 326, loss = 0.42587934\n",
      "Iteration 327, loss = 0.42677249\n",
      "Iteration 328, loss = 0.42362910\n",
      "Iteration 329, loss = 0.42500865\n",
      "Iteration 330, loss = 0.42278411\n",
      "Iteration 331, loss = 0.42505773\n",
      "Iteration 332, loss = 0.42535955\n",
      "Iteration 333, loss = 0.42699329\n",
      "Iteration 334, loss = 0.42361426\n",
      "Iteration 335, loss = 0.42284877\n",
      "Iteration 336, loss = 0.42485627\n",
      "Iteration 337, loss = 0.42323663\n",
      "Iteration 338, loss = 0.42333447\n",
      "Iteration 339, loss = 0.42491269\n",
      "Iteration 340, loss = 0.42389416\n",
      "Iteration 341, loss = 0.42224759\n",
      "Iteration 342, loss = 0.42377641\n",
      "Iteration 343, loss = 0.42516757\n",
      "Iteration 344, loss = 0.42442154\n",
      "Iteration 345, loss = 0.42530778\n",
      "Iteration 346, loss = 0.42406578\n",
      "Iteration 347, loss = 0.42296051\n",
      "Iteration 348, loss = 0.42596427\n",
      "Iteration 349, loss = 0.42248862\n",
      "Iteration 350, loss = 0.42494181\n",
      "Iteration 351, loss = 0.42486621\n",
      "Iteration 352, loss = 0.42197106\n",
      "Iteration 353, loss = 0.42199149\n",
      "Iteration 354, loss = 0.42326906\n",
      "Iteration 355, loss = 0.42502225\n",
      "Iteration 356, loss = 0.42587234\n",
      "Iteration 357, loss = 0.42207664\n",
      "Iteration 358, loss = 0.42487685\n",
      "Iteration 359, loss = 0.42421752\n",
      "Iteration 360, loss = 0.42280874\n",
      "Iteration 361, loss = 0.42454102\n",
      "Iteration 362, loss = 0.42159542\n",
      "Iteration 363, loss = 0.42491319\n",
      "Iteration 364, loss = 0.42364027\n",
      "Iteration 365, loss = 0.42440781\n",
      "Iteration 366, loss = 0.42242144\n",
      "Iteration 367, loss = 0.42295413\n",
      "Iteration 368, loss = 0.42252071\n",
      "Iteration 369, loss = 0.42410202\n",
      "Iteration 370, loss = 0.42353196\n",
      "Iteration 371, loss = 0.42190498\n",
      "Iteration 372, loss = 0.42163567\n",
      "Iteration 373, loss = 0.42176386\n",
      "Iteration 374, loss = 0.42358106\n",
      "Iteration 375, loss = 0.42471511\n",
      "Iteration 376, loss = 0.42151490\n",
      "Iteration 377, loss = 0.42219572\n",
      "Iteration 378, loss = 0.42226379\n",
      "Iteration 379, loss = 0.42280427\n",
      "Iteration 380, loss = 0.42329098\n",
      "Iteration 381, loss = 0.42450967\n",
      "Iteration 382, loss = 0.42115432\n",
      "Iteration 383, loss = 0.42605572\n",
      "Iteration 384, loss = 0.42356609\n",
      "Iteration 385, loss = 0.42539678\n",
      "Iteration 386, loss = 0.42018544\n",
      "Iteration 387, loss = 0.42137784\n",
      "Iteration 388, loss = 0.42480123\n",
      "Iteration 389, loss = 0.42238240\n",
      "Iteration 390, loss = 0.42037017\n",
      "Iteration 391, loss = 0.42298042\n",
      "Iteration 392, loss = 0.42052107\n",
      "Iteration 393, loss = 0.42065826\n",
      "Iteration 394, loss = 0.42081318\n",
      "Iteration 395, loss = 0.42350482\n",
      "Iteration 396, loss = 0.42195235\n",
      "Iteration 397, loss = 0.41979251\n",
      "Iteration 398, loss = 0.42123267\n",
      "Iteration 399, loss = 0.42053687\n",
      "Iteration 400, loss = 0.42075086\n",
      "Iteration 401, loss = 0.42021929\n",
      "Iteration 402, loss = 0.42299179\n",
      "Iteration 403, loss = 0.42210084\n",
      "Iteration 404, loss = 0.42061640\n",
      "Iteration 405, loss = 0.42055729\n",
      "Iteration 406, loss = 0.42116509\n",
      "Iteration 407, loss = 0.42264033\n",
      "Iteration 408, loss = 0.41870779\n",
      "Iteration 409, loss = 0.42348108\n",
      "Iteration 410, loss = 0.42111630\n",
      "Iteration 411, loss = 0.42085908\n",
      "Iteration 412, loss = 0.42186985\n",
      "Iteration 413, loss = 0.42172334\n",
      "Iteration 414, loss = 0.42310578\n",
      "Iteration 415, loss = 0.42127039\n",
      "Iteration 416, loss = 0.42071507\n",
      "Iteration 417, loss = 0.42231443\n",
      "Iteration 418, loss = 0.41976000\n",
      "Iteration 419, loss = 0.42164536\n",
      "Iteration 420, loss = 0.42023252\n",
      "Iteration 421, loss = 0.42178907\n",
      "Iteration 422, loss = 0.42253675\n",
      "Iteration 423, loss = 0.42200196\n",
      "Iteration 424, loss = 0.42136019\n",
      "Iteration 425, loss = 0.42207274\n",
      "Iteration 426, loss = 0.42055503\n",
      "Iteration 427, loss = 0.42108078\n",
      "Iteration 428, loss = 0.42037007\n",
      "Iteration 429, loss = 0.42129438\n",
      "Iteration 430, loss = 0.42040906\n",
      "Iteration 431, loss = 0.42355706\n",
      "Iteration 432, loss = 0.42083738\n",
      "Iteration 433, loss = 0.41832530\n",
      "Iteration 434, loss = 0.42119137\n",
      "Iteration 435, loss = 0.42081347\n",
      "Iteration 436, loss = 0.42017103\n",
      "Iteration 437, loss = 0.42161649\n",
      "Iteration 438, loss = 0.42107238\n",
      "Iteration 439, loss = 0.42016757\n",
      "Iteration 440, loss = 0.42027763\n",
      "Iteration 441, loss = 0.42083190\n",
      "Iteration 442, loss = 0.42047111\n",
      "Iteration 443, loss = 0.41904062\n",
      "Iteration 444, loss = 0.42143726\n",
      "Iteration 445, loss = 0.42169419\n",
      "Iteration 446, loss = 0.41906704\n",
      "Iteration 447, loss = 0.42144436\n",
      "Iteration 448, loss = 0.41901604\n",
      "Iteration 449, loss = 0.42018299\n",
      "Iteration 450, loss = 0.42033794\n",
      "Iteration 451, loss = 0.42158343\n",
      "Iteration 452, loss = 0.42010683\n",
      "Iteration 453, loss = 0.41950570\n",
      "Iteration 454, loss = 0.42147556\n",
      "Iteration 455, loss = 0.41966638\n",
      "Iteration 456, loss = 0.42074859\n",
      "Iteration 457, loss = 0.42008867\n",
      "Iteration 458, loss = 0.42204895\n",
      "Iteration 459, loss = 0.41997971\n",
      "Iteration 460, loss = 0.42181228\n",
      "Iteration 461, loss = 0.41859345\n",
      "Iteration 462, loss = 0.41969025\n",
      "Iteration 463, loss = 0.41977956\n",
      "Iteration 464, loss = 0.41929523\n",
      "Iteration 465, loss = 0.42034007\n",
      "Iteration 466, loss = 0.41826318\n",
      "Iteration 467, loss = 0.41941269\n",
      "Iteration 468, loss = 0.41986156\n",
      "Iteration 469, loss = 0.41866043\n",
      "Iteration 470, loss = 0.42088508\n",
      "Iteration 471, loss = 0.41878929\n",
      "Iteration 472, loss = 0.41918167\n",
      "Iteration 473, loss = 0.42012408\n",
      "Iteration 474, loss = 0.42051303\n",
      "Iteration 475, loss = 0.41900215\n",
      "Iteration 476, loss = 0.41868338\n",
      "Iteration 477, loss = 0.42077777\n",
      "Iteration 478, loss = 0.42040439\n",
      "Iteration 479, loss = 0.42003390\n",
      "Iteration 480, loss = 0.41815151\n",
      "Iteration 481, loss = 0.41972217\n",
      "Iteration 482, loss = 0.41746560\n",
      "Iteration 483, loss = 0.42113512\n",
      "Iteration 484, loss = 0.41950248\n",
      "Iteration 485, loss = 0.41837210\n",
      "Iteration 486, loss = 0.41882110\n",
      "Iteration 487, loss = 0.41834825\n",
      "Iteration 488, loss = 0.41979736\n",
      "Iteration 489, loss = 0.42059506\n",
      "Iteration 490, loss = 0.41910450\n",
      "Iteration 491, loss = 0.41971321\n",
      "Iteration 492, loss = 0.41984625\n",
      "Iteration 493, loss = 0.42019853\n",
      "Iteration 494, loss = 0.41996203\n",
      "Iteration 495, loss = 0.41898307\n",
      "Iteration 496, loss = 0.41880646\n",
      "Iteration 497, loss = 0.41949556\n",
      "Iteration 498, loss = 0.41916757\n",
      "Iteration 499, loss = 0.41809413\n",
      "Iteration 500, loss = 0.41802891\n"
     ]
    },
    {
     "name": "stderr",
     "output_type": "stream",
     "text": [
      "C:\\Users\\zacwo\\AppData\\Local\\Packages\\PythonSoftwareFoundation.Python.3.10_qbz5n2kfra8p0\\LocalCache\\local-packages\\Python310\\site-packages\\sklearn\\neural_network\\_multilayer_perceptron.py:692: ConvergenceWarning: Stochastic Optimizer: Maximum iterations (500) reached and the optimization hasn't converged yet.\n",
      "  warnings.warn(\n"
     ]
    },
    {
     "data": {
      "text/plain": [
       "MLPClassifier(hidden_layer_sizes=(8, 4), max_iter=500, n_iter_no_change=50,\n",
       "              random_state=4266, tol=1e-24, verbose=2)"
      ]
     },
     "execution_count": 51,
     "metadata": {},
     "output_type": "execute_result"
    }
   ],
   "source": [
    "mlp_clf = MLPClassifier(hidden_layer_sizes=(8,4),tol=1e-24, max_iter = 500, verbose = 2,n_iter_no_change=50, random_state=4266)\n",
    "mlp_clf.fit(x_train, y_train)"
   ]
  },
  {
   "cell_type": "code",
   "execution_count": 52,
   "metadata": {},
   "outputs": [],
   "source": [
    "y_pred = mlp_clf.predict(x_val)\n",
    "y_pred_prob = mlp_clf.predict_proba(x_val)"
   ]
  },
  {
   "cell_type": "code",
   "execution_count": 53,
   "metadata": {},
   "outputs": [
    {
     "data": {
      "image/png": "[encoded data removed]",
      "text/plain": [
       "<Figure size 576x432 with 1 Axes>"
      ]
     },
     "metadata": {
      "needs_background": "light"
     },
     "output_type": "display_data"
    }
   ],
   "source": [
    "from sklearn.metrics import roc_auc_score, roc_curve, auc\n",
    "import matplotlib.pyplot as plt\n",
    "\n",
    "# Calculate ROC AUC\n",
    "roc_auc = roc_auc_score(y_val, y_pred_prob[:, 1])\n",
    "\n",
    "# Get ROC curve values\n",
    "fpr, tpr, _ = roc_curve(y_val, y_pred_prob[:, 1])\n",
    "\n",
    "# Plot ROC curve\n",
    "plt.figure(figsize=(8, 6))\n",
    "plt.plot(fpr, tpr, color='darkorange', lw=2, label='ROC curve (area = %0.2f)' % roc_auc)\n",
    "plt.plot([0, 1], [0, 1], color='navy', lw=2, linestyle='--')\n",
    "plt.xlim([0.0, 1.0])\n",
    "plt.ylim([0.0, 1.05])\n",
    "plt.xlabel('False Positive Rate')\n",
    "plt.ylabel('True Positive Rate')\n",
    "plt.title('Receiver Operating Characteristic (ROC) Curve')\n",
    "plt.legend(loc='lower right')\n",
    "plt.show()\n"
   ]
  },
  {
   "cell_type": "code",
   "execution_count": 54,
   "metadata": {},
   "outputs": [
    {
     "data": {
      "image/png": "[encoded data removed]",
      "text/plain": [
       "<Figure size 576x432 with 1 Axes>"
      ]
     },
     "metadata": {
      "needs_background": "light"
     },
     "output_type": "display_data"
    }
   ],
   "source": [
    "from sklearn.metrics import precision_recall_curve, average_precision_score\n",
    "import matplotlib.pyplot as plt\n",
    "\n",
    "# Calculate PR AUC\n",
    "pr_auc = average_precision_score(y_val, y_pred_prob[:, 1])\n",
    "\n",
    "# Get precision-recall curve values\n",
    "precision, recall, _ = precision_recall_curve(y_val, y_pred_prob[:, 1])\n",
    "\n",
    "# Plot precision-recall curve\n",
    "plt.figure(figsize=(8, 6))\n",
    "plt.step(recall, precision, color='b', alpha=0.2, where='post')\n",
    "plt.fill_between(recall, precision, step='post', alpha=0.2, color='b')\n",
    "plt.xlabel('Recall')\n",
    "plt.ylabel('Precision')\n",
    "plt.title('Precision-Recall Curve (PR AUC = %0.2f)' % pr_auc)\n",
    "plt.xlim([0.0, 1.0])\n",
    "plt.ylim([0.0, 1.05])\n",
    "plt.show()\n"
   ]
  }
 ],
 "metadata": {
  "kernelspec": {
   "display_name": "Python 3",
   "language": "python",
   "name": "python3"
  },
  "language_info": {
   "codemirror_mode": {
    "name": "ipython",
    "version": 3
   },
   "file_extension": ".py",
   "mimetype": "text/x-python",
   "name": "python",
   "nbconvert_exporter": "python",
   "pygments_lexer": "ipython3",
   "version": "3.10.11"
  }
 },
 "nbformat": 4,
 "nbformat_minor": 2
}
