{
 "cells": [
  {
   "cell_type": "code",
   "execution_count": 83,
   "metadata": {},
   "outputs": [],
   "source": [
    "import pandas as pd\n",
    "import numpy as np"
   ]
  },
  {
   "cell_type": "code",
   "execution_count": 84,
   "metadata": {},
   "outputs": [],
   "source": [
    "train_data=pd.read_csv(\"../data/train_synth_data.csv\")\n",
    "test_data=pd.read_csv(\"../data/test_synth_data.csv\")"
   ]
  },
  {
   "cell_type": "code",
   "execution_count": 85,
   "metadata": {},
   "outputs": [],
   "source": [
    "from sklearn.model_selection import train_test_split\n",
    "\n",
    "# shuffle data\n",
    "df = train_data.sample(frac=1, random_state=4266)\n",
    "# Perform a train-test split\n",
    "train_ratio = 0.8  # Adjust this ratio as needed\n",
    "train_size = int(len(df) * train_ratio)\n",
    "\n",
    "train_data = df[:train_size]\n",
    "valid_data = df[train_size:]"
   ]
  },
  {
   "cell_type": "code",
   "execution_count": 89,
   "metadata": {},
   "outputs": [
    {
     "data": {
      "text/html": [
       "<div>\n",
       "<style scoped>\n",
       "    .dataframe tbody tr th:only-of-type {\n",
       "        vertical-align: middle;\n",
       "    }\n",
       "\n",
       "    .dataframe tbody tr th {\n",
       "        vertical-align: top;\n",
       "    }\n",
       "\n",
       "    .dataframe thead th {\n",
       "        text-align: right;\n",
       "    }\n",
       "</style>\n",
       "<table border=\"1\" class=\"dataframe\">\n",
       "  <thead>\n",
       "    <tr style=\"text-align: right;\">\n",
       "      <th></th>\n",
       "      <th>transcript_id</th>\n",
       "      <th>transcript_position</th>\n",
       "      <th>gene_id</th>\n",
       "      <th>label</th>\n",
       "      <th>dwell_time_-1</th>\n",
       "      <th>sd_-1</th>\n",
       "      <th>mean_-1</th>\n",
       "      <th>dwell_time_0</th>\n",
       "      <th>sd_0</th>\n",
       "      <th>mean_0</th>\n",
       "      <th>...</th>\n",
       "      <th>5-mer-1_G</th>\n",
       "      <th>5-mer-2_A</th>\n",
       "      <th>5-mer-2_G</th>\n",
       "      <th>5-mer-5_A</th>\n",
       "      <th>5-mer-5_C</th>\n",
       "      <th>5-mer-5_T</th>\n",
       "      <th>5-mer-6_A</th>\n",
       "      <th>5-mer-6_C</th>\n",
       "      <th>5-mer-6_T</th>\n",
       "      <th>5-mer-6_G</th>\n",
       "    </tr>\n",
       "  </thead>\n",
       "  <tbody>\n",
       "    <tr>\n",
       "      <th>0</th>\n",
       "      <td>ENST00000429711</td>\n",
       "      <td>148</td>\n",
       "      <td>ENSG00000144713</td>\n",
       "      <td>0</td>\n",
       "      <td>0.010216</td>\n",
       "      <td>6.895889</td>\n",
       "      <td>132.951417</td>\n",
       "      <td>0.006676</td>\n",
       "      <td>4.237490</td>\n",
       "      <td>95.638057</td>\n",
       "      <td>...</td>\n",
       "      <td>1</td>\n",
       "      <td>1</td>\n",
       "      <td>0</td>\n",
       "      <td>0</td>\n",
       "      <td>1</td>\n",
       "      <td>0</td>\n",
       "      <td>1</td>\n",
       "      <td>0</td>\n",
       "      <td>0</td>\n",
       "      <td>0</td>\n",
       "    </tr>\n",
       "    <tr>\n",
       "      <th>1</th>\n",
       "      <td>ENST00000523944</td>\n",
       "      <td>2085</td>\n",
       "      <td>ENSG00000104738</td>\n",
       "      <td>0</td>\n",
       "      <td>0.007200</td>\n",
       "      <td>3.947843</td>\n",
       "      <td>118.058824</td>\n",
       "      <td>0.007439</td>\n",
       "      <td>6.113137</td>\n",
       "      <td>120.607843</td>\n",
       "      <td>...</td>\n",
       "      <td>1</td>\n",
       "      <td>0</td>\n",
       "      <td>1</td>\n",
       "      <td>0</td>\n",
       "      <td>1</td>\n",
       "      <td>0</td>\n",
       "      <td>0</td>\n",
       "      <td>1</td>\n",
       "      <td>0</td>\n",
       "      <td>0</td>\n",
       "    </tr>\n",
       "    <tr>\n",
       "      <th>2</th>\n",
       "      <td>ENST00000582730</td>\n",
       "      <td>1946</td>\n",
       "      <td>ENSG00000136450</td>\n",
       "      <td>0</td>\n",
       "      <td>0.008813</td>\n",
       "      <td>4.434474</td>\n",
       "      <td>102.891447</td>\n",
       "      <td>0.007550</td>\n",
       "      <td>6.304868</td>\n",
       "      <td>124.184211</td>\n",
       "      <td>...</td>\n",
       "      <td>0</td>\n",
       "      <td>0</td>\n",
       "      <td>1</td>\n",
       "      <td>0</td>\n",
       "      <td>0</td>\n",
       "      <td>1</td>\n",
       "      <td>0</td>\n",
       "      <td>0</td>\n",
       "      <td>0</td>\n",
       "      <td>1</td>\n",
       "    </tr>\n",
       "    <tr>\n",
       "      <th>3</th>\n",
       "      <td>ENST00000306125</td>\n",
       "      <td>1111</td>\n",
       "      <td>ENSG00000172053</td>\n",
       "      <td>0</td>\n",
       "      <td>0.008166</td>\n",
       "      <td>7.344167</td>\n",
       "      <td>131.200000</td>\n",
       "      <td>0.010954</td>\n",
       "      <td>4.223333</td>\n",
       "      <td>104.300000</td>\n",
       "      <td>...</td>\n",
       "      <td>1</td>\n",
       "      <td>1</td>\n",
       "      <td>0</td>\n",
       "      <td>0</td>\n",
       "      <td>0</td>\n",
       "      <td>1</td>\n",
       "      <td>1</td>\n",
       "      <td>0</td>\n",
       "      <td>0</td>\n",
       "      <td>0</td>\n",
       "    </tr>\n",
       "    <tr>\n",
       "      <th>4</th>\n",
       "      <td>ENST00000376759</td>\n",
       "      <td>109</td>\n",
       "      <td>ENSG00000102317</td>\n",
       "      <td>0</td>\n",
       "      <td>0.009987</td>\n",
       "      <td>1.540525</td>\n",
       "      <td>90.176271</td>\n",
       "      <td>0.009452</td>\n",
       "      <td>1.982814</td>\n",
       "      <td>93.570339</td>\n",
       "      <td>...</td>\n",
       "      <td>0</td>\n",
       "      <td>1</td>\n",
       "      <td>0</td>\n",
       "      <td>1</td>\n",
       "      <td>0</td>\n",
       "      <td>0</td>\n",
       "      <td>0</td>\n",
       "      <td>1</td>\n",
       "      <td>0</td>\n",
       "      <td>0</td>\n",
       "    </tr>\n",
       "    <tr>\n",
       "      <th>...</th>\n",
       "      <td>...</td>\n",
       "      <td>...</td>\n",
       "      <td>...</td>\n",
       "      <td>...</td>\n",
       "      <td>...</td>\n",
       "      <td>...</td>\n",
       "      <td>...</td>\n",
       "      <td>...</td>\n",
       "      <td>...</td>\n",
       "      <td>...</td>\n",
       "      <td>...</td>\n",
       "      <td>...</td>\n",
       "      <td>...</td>\n",
       "      <td>...</td>\n",
       "      <td>...</td>\n",
       "      <td>...</td>\n",
       "      <td>...</td>\n",
       "      <td>...</td>\n",
       "      <td>...</td>\n",
       "      <td>...</td>\n",
       "      <td>...</td>\n",
       "    </tr>\n",
       "    <tr>\n",
       "      <th>24363</th>\n",
       "      <td>ENST00000301964</td>\n",
       "      <td>760</td>\n",
       "      <td>ENSG00000171148</td>\n",
       "      <td>0</td>\n",
       "      <td>0.008328</td>\n",
       "      <td>2.553851</td>\n",
       "      <td>106.659574</td>\n",
       "      <td>0.005866</td>\n",
       "      <td>3.686809</td>\n",
       "      <td>100.019149</td>\n",
       "      <td>...</td>\n",
       "      <td>0</td>\n",
       "      <td>1</td>\n",
       "      <td>0</td>\n",
       "      <td>0</td>\n",
       "      <td>1</td>\n",
       "      <td>0</td>\n",
       "      <td>0</td>\n",
       "      <td>1</td>\n",
       "      <td>0</td>\n",
       "      <td>0</td>\n",
       "    </tr>\n",
       "    <tr>\n",
       "      <th>24364</th>\n",
       "      <td>ENST00000394366</td>\n",
       "      <td>516</td>\n",
       "      <td>ENSG00000100650</td>\n",
       "      <td>0</td>\n",
       "      <td>0.008927</td>\n",
       "      <td>7.611071</td>\n",
       "      <td>120.107143</td>\n",
       "      <td>0.007853</td>\n",
       "      <td>2.980714</td>\n",
       "      <td>97.246429</td>\n",
       "      <td>...</td>\n",
       "      <td>1</td>\n",
       "      <td>1</td>\n",
       "      <td>0</td>\n",
       "      <td>1</td>\n",
       "      <td>0</td>\n",
       "      <td>0</td>\n",
       "      <td>0</td>\n",
       "      <td>0</td>\n",
       "      <td>1</td>\n",
       "      <td>0</td>\n",
       "    </tr>\n",
       "    <tr>\n",
       "      <th>24365</th>\n",
       "      <td>ENST00000337387</td>\n",
       "      <td>1241</td>\n",
       "      <td>ENSG00000146457</td>\n",
       "      <td>0</td>\n",
       "      <td>0.005336</td>\n",
       "      <td>1.654974</td>\n",
       "      <td>90.678947</td>\n",
       "      <td>0.006570</td>\n",
       "      <td>2.322632</td>\n",
       "      <td>94.926316</td>\n",
       "      <td>...</td>\n",
       "      <td>0</td>\n",
       "      <td>1</td>\n",
       "      <td>0</td>\n",
       "      <td>0</td>\n",
       "      <td>1</td>\n",
       "      <td>0</td>\n",
       "      <td>1</td>\n",
       "      <td>0</td>\n",
       "      <td>0</td>\n",
       "      <td>0</td>\n",
       "    </tr>\n",
       "    <tr>\n",
       "      <th>24366</th>\n",
       "      <td>ENST00000356663</td>\n",
       "      <td>1960</td>\n",
       "      <td>ENSG00000182087</td>\n",
       "      <td>0</td>\n",
       "      <td>0.007976</td>\n",
       "      <td>3.375405</td>\n",
       "      <td>107.994595</td>\n",
       "      <td>0.006756</td>\n",
       "      <td>6.224865</td>\n",
       "      <td>118.918919</td>\n",
       "      <td>...</td>\n",
       "      <td>0</td>\n",
       "      <td>0</td>\n",
       "      <td>1</td>\n",
       "      <td>1</td>\n",
       "      <td>0</td>\n",
       "      <td>0</td>\n",
       "      <td>0</td>\n",
       "      <td>1</td>\n",
       "      <td>0</td>\n",
       "      <td>0</td>\n",
       "    </tr>\n",
       "    <tr>\n",
       "      <th>24367</th>\n",
       "      <td>ENST00000349139</td>\n",
       "      <td>2977</td>\n",
       "      <td>ENSG00000065183</td>\n",
       "      <td>0</td>\n",
       "      <td>0.007264</td>\n",
       "      <td>2.520604</td>\n",
       "      <td>87.128302</td>\n",
       "      <td>0.005576</td>\n",
       "      <td>2.875094</td>\n",
       "      <td>93.390566</td>\n",
       "      <td>...</td>\n",
       "      <td>0</td>\n",
       "      <td>1</td>\n",
       "      <td>0</td>\n",
       "      <td>1</td>\n",
       "      <td>0</td>\n",
       "      <td>0</td>\n",
       "      <td>0</td>\n",
       "      <td>0</td>\n",
       "      <td>0</td>\n",
       "      <td>1</td>\n",
       "    </tr>\n",
       "  </tbody>\n",
       "</table>\n",
       "<p>24368 rows × 29 columns</p>\n",
       "</div>"
      ],
      "text/plain": [
       "         transcript_id  transcript_position          gene_id  label  \\\n",
       "0      ENST00000429711                  148  ENSG00000144713      0   \n",
       "1      ENST00000523944                 2085  ENSG00000104738      0   \n",
       "2      ENST00000582730                 1946  ENSG00000136450      0   \n",
       "3      ENST00000306125                 1111  ENSG00000172053      0   \n",
       "4      ENST00000376759                  109  ENSG00000102317      0   \n",
       "...                ...                  ...              ...    ...   \n",
       "24363  ENST00000301964                  760  ENSG00000171148      0   \n",
       "24364  ENST00000394366                  516  ENSG00000100650      0   \n",
       "24365  ENST00000337387                 1241  ENSG00000146457      0   \n",
       "24366  ENST00000356663                 1960  ENSG00000182087      0   \n",
       "24367  ENST00000349139                 2977  ENSG00000065183      0   \n",
       "\n",
       "       dwell_time_-1     sd_-1     mean_-1  dwell_time_0      sd_0  \\\n",
       "0           0.010216  6.895889  132.951417      0.006676  4.237490   \n",
       "1           0.007200  3.947843  118.058824      0.007439  6.113137   \n",
       "2           0.008813  4.434474  102.891447      0.007550  6.304868   \n",
       "3           0.008166  7.344167  131.200000      0.010954  4.223333   \n",
       "4           0.009987  1.540525   90.176271      0.009452  1.982814   \n",
       "...              ...       ...         ...           ...       ...   \n",
       "24363       0.008328  2.553851  106.659574      0.005866  3.686809   \n",
       "24364       0.008927  7.611071  120.107143      0.007853  2.980714   \n",
       "24365       0.005336  1.654974   90.678947      0.006570  2.322632   \n",
       "24366       0.007976  3.375405  107.994595      0.006756  6.224865   \n",
       "24367       0.007264  2.520604   87.128302      0.005576  2.875094   \n",
       "\n",
       "           mean_0  ...  5-mer-1_G  5-mer-2_A  5-mer-2_G  5-mer-5_A  5-mer-5_C  \\\n",
       "0       95.638057  ...          1          1          0          0          1   \n",
       "1      120.607843  ...          1          0          1          0          1   \n",
       "2      124.184211  ...          0          0          1          0          0   \n",
       "3      104.300000  ...          1          1          0          0          0   \n",
       "4       93.570339  ...          0          1          0          1          0   \n",
       "...           ...  ...        ...        ...        ...        ...        ...   \n",
       "24363  100.019149  ...          0          1          0          0          1   \n",
       "24364   97.246429  ...          1          1          0          1          0   \n",
       "24365   94.926316  ...          0          1          0          0          1   \n",
       "24366  118.918919  ...          0          0          1          1          0   \n",
       "24367   93.390566  ...          0          1          0          1          0   \n",
       "\n",
       "       5-mer-5_T  5-mer-6_A  5-mer-6_C  5-mer-6_T  5-mer-6_G  \n",
       "0              0          1          0          0          0  \n",
       "1              0          0          1          0          0  \n",
       "2              1          0          0          0          1  \n",
       "3              1          1          0          0          0  \n",
       "4              0          0          1          0          0  \n",
       "...          ...        ...        ...        ...        ...  \n",
       "24363          0          0          1          0          0  \n",
       "24364          0          0          0          1          0  \n",
       "24365          0          1          0          0          0  \n",
       "24366          0          0          1          0          0  \n",
       "24367          0          0          0          0          1  \n",
       "\n",
       "[24368 rows x 29 columns]"
      ]
     },
     "execution_count": 89,
     "metadata": {},
     "output_type": "execute_result"
    }
   ],
   "source": [
    "test_data"
   ]
  },
  {
   "cell_type": "code",
   "execution_count": 90,
   "metadata": {},
   "outputs": [],
   "source": [
    "X_train_pos,X_train_stats,y_train=train_data[['5-mer-0_A', '5-mer-0_C', '5-mer-0_T',\n",
    "       '5-mer-0_G', '5-mer-1_A', '5-mer-1_T', '5-mer-1_G', '5-mer-2_A',\n",
    "       '5-mer-2_G', '5-mer-5_A', '5-mer-5_C', '5-mer-5_T', '5-mer-6_A',\n",
    "       '5-mer-6_C', '5-mer-6_T', '5-mer-6_G']],train_data[['dwell_time_-1', 'sd_-1', 'mean_-1', 'dwell_time_0', 'sd_0', 'mean_0',\n",
    "       'dwell_time_1', 'sd_1', 'mean_1']],train_data['label']"
   ]
  },
  {
   "cell_type": "code",
   "execution_count": 91,
   "metadata": {},
   "outputs": [],
   "source": [
    "X_valid_pos,X_valid_stats,y_valid=valid_data[['5-mer-0_A', '5-mer-0_C', '5-mer-0_T',\n",
    "       '5-mer-0_G', '5-mer-1_A', '5-mer-1_T', '5-mer-1_G', '5-mer-2_A',\n",
    "       '5-mer-2_G', '5-mer-5_A', '5-mer-5_C', '5-mer-5_T', '5-mer-6_A',\n",
    "       '5-mer-6_C', '5-mer-6_T', '5-mer-6_G']],valid_data[['dwell_time_-1', 'sd_-1', 'mean_-1', 'dwell_time_0', 'sd_0', 'mean_0',\n",
    "       'dwell_time_1', 'sd_1', 'mean_1']],valid_data['label']"
   ]
  },
  {
   "cell_type": "code",
   "execution_count": 92,
   "metadata": {},
   "outputs": [],
   "source": [
    "X_test_pos,X_test_stats,y_test=test_data[['5-mer-0_A', '5-mer-0_C', '5-mer-0_T',\n",
    "       '5-mer-0_G', '5-mer-1_A', '5-mer-1_T', '5-mer-1_G', '5-mer-2_A',\n",
    "       '5-mer-2_G', '5-mer-5_A', '5-mer-5_C', '5-mer-5_T', '5-mer-6_A',\n",
    "       '5-mer-6_C', '5-mer-6_T', '5-mer-6_G']],test_data[['dwell_time_-1', 'sd_-1', 'mean_-1', 'dwell_time_0', 'sd_0', 'mean_0',\n",
    "       'dwell_time_1', 'sd_1', 'mean_1']],test_data['label']"
   ]
  },
  {
   "cell_type": "code",
   "execution_count": 95,
   "metadata": {},
   "outputs": [
    {
     "data": {
      "text/plain": [
       "(148888, 16)"
      ]
     },
     "execution_count": 95,
     "metadata": {},
     "output_type": "execute_result"
    }
   ],
   "source": [
    "X_train_pos.shape"
   ]
  },
  {
   "cell_type": "code",
   "execution_count": 96,
   "metadata": {},
   "outputs": [],
   "source": [
    "X_train_pos=np.array(X_train_pos)\n",
    "X_train_stats=np.array(X_train_stats)\n",
    "y_train=np.array(y_train)"
   ]
  },
  {
   "cell_type": "code",
   "execution_count": 97,
   "metadata": {},
   "outputs": [],
   "source": [
    "X_valid_pos=np.array(X_valid_pos)\n",
    "X_valid_stats=np.array(X_valid_stats)\n",
    "y_valid=np.array(y_valid)"
   ]
  },
  {
   "cell_type": "code",
   "execution_count": 98,
   "metadata": {},
   "outputs": [],
   "source": [
    "X_test_pos=np.array(X_test_pos)\n",
    "X_test_stats=np.array(X_test_stats)\n",
    "y_test=np.array(y_test)"
   ]
  },
  {
   "cell_type": "code",
   "execution_count": 139,
   "metadata": {},
   "outputs": [],
   "source": [
    "from tensorflow.keras import layers\n",
    "from tensorflow.keras.models import Model\n",
    "\n",
    "\n",
    "input_pos= layers.Input(shape=(16,))\n",
    "x = layers.Dense(64, activation=\"relu\")(input_pos)\n",
    "x = layers.Dense(10, activation=\"relu\")(x)\n",
    "x = Model(inputs=input_pos, outputs=x)\n",
    "\n",
    "\n",
    "input_stats = layers.Input(shape=(9,))\n",
    "\n",
    "y = layers.Dense(64, activation=\"relu\")(input_stats)\n",
    "y = layers.Dense(10, activation=\"relu\")(y)\n",
    "y = Model(inputs=input_stats, outputs=y)\n",
    "\n",
    "# Concatenate the two streams together\n",
    "combined = layers.concatenate([x.output, y.output])\n",
    "# Define joined Feed-Forward Layer\n",
    "z = layers.Dense(4, activation=\"relu\")(combined)\n",
    "\n",
    "\n",
    "# Define output node of 1 linear neuron (regression task)\n",
    "z = layers.Dense(1, activation=\"elu\")(z)\n",
    "\n",
    "# Define the final model\n",
    "model = Model(inputs=[x.input, y.input], outputs=z)"
   ]
  },
  {
   "cell_type": "code",
   "execution_count": 140,
   "metadata": {},
   "outputs": [
    {
     "name": "stdout",
     "output_type": "stream",
     "text": [
      "Model: \"model_20\"\n",
      "__________________________________________________________________________________________________\n",
      " Layer (type)                Output Shape                 Param #   Connected to                  \n",
      "==================================================================================================\n",
      " input_13 (InputLayer)       [(None, 16)]                 0         []                            \n",
      "                                                                                                  \n",
      " input_14 (InputLayer)       [(None, 9)]                  0         []                            \n",
      "                                                                                                  \n",
      " dense_34 (Dense)            (None, 64)                   1088      ['input_13[0][0]']            \n",
      "                                                                                                  \n",
      " dense_36 (Dense)            (None, 64)                   640       ['input_14[0][0]']            \n",
      "                                                                                                  \n",
      " dense_35 (Dense)            (None, 10)                   650       ['dense_34[0][0]']            \n",
      "                                                                                                  \n",
      " dense_37 (Dense)            (None, 10)                   650       ['dense_36[0][0]']            \n",
      "                                                                                                  \n",
      " concatenate_6 (Concatenate  (None, 20)                   0         ['dense_35[0][0]',            \n",
      " )                                                                   'dense_37[0][0]']            \n",
      "                                                                                                  \n",
      " dense_38 (Dense)            (None, 4)                    84        ['concatenate_6[0][0]']       \n",
      "                                                                                                  \n",
      " dense_39 (Dense)            (None, 1)                    5         ['dense_38[0][0]']            \n",
      "                                                                                                  \n",
      "==================================================================================================\n",
      "Total params: 3117 (12.18 KB)\n",
      "Trainable params: 3117 (12.18 KB)\n",
      "Non-trainable params: 0 (0.00 Byte)\n",
      "__________________________________________________________________________________________________\n"
     ]
    }
   ],
   "source": [
    "# Observe a (confusing) summary of the model\n",
    "\n",
    "model.summary()"
   ]
  },
  {
   "cell_type": "code",
   "execution_count": 141,
   "metadata": {},
   "outputs": [
    {
     "name": "stderr",
     "output_type": "stream",
     "text": [
      "WARNING:absl:At this time, the v2.11+ optimizer `tf.keras.optimizers.Adam` runs slowly on M1/M2 Macs, please use the legacy Keras optimizer instead, located at `tf.keras.optimizers.legacy.Adam`.\n"
     ]
    }
   ],
   "source": [
    "# Compile the model with Adam optimizer and mean-squared-error loss function\n",
    "\n",
    "from tensorflow.keras.optimizers import Adam\n",
    "\n",
    "optimizer = Adam(learning_rate=0.001)\n",
    "\n",
    "model.compile(loss='mse', optimizer=optimizer, metrics=['mean_absolute_error'])"
   ]
  },
  {
   "cell_type": "code",
   "execution_count": 142,
   "metadata": {},
   "outputs": [
    {
     "name": "stdout",
     "output_type": "stream",
     "text": [
      "Epoch 1/10\n",
      "4650/4653 [============================>.] - ETA: 0s - loss: 2.1932 - mean_absolute_error: 0.4566INFO:tensorflow:Assets written to: model/assets\n"
     ]
    },
    {
     "name": "stderr",
     "output_type": "stream",
     "text": [
      "INFO:tensorflow:Assets written to: model/assets\n"
     ]
    },
    {
     "name": "stdout",
     "output_type": "stream",
     "text": [
      "4653/4653 [==============================] - 3s 537us/step - loss: 2.1920 - mean_absolute_error: 0.4565 - val_loss: 0.1758 - val_mean_absolute_error: 0.3402\n",
      "Epoch 2/10\n",
      "4598/4653 [============================>.] - ETA: 0s - loss: 0.1673 - mean_absolute_error: 0.3345INFO:tensorflow:Assets written to: model/assets\n"
     ]
    },
    {
     "name": "stderr",
     "output_type": "stream",
     "text": [
      "INFO:tensorflow:Assets written to: model/assets\n"
     ]
    },
    {
     "name": "stdout",
     "output_type": "stream",
     "text": [
      "4653/4653 [==============================] - 2s 529us/step - loss: 0.1672 - mean_absolute_error: 0.3344 - val_loss: 0.1700 - val_mean_absolute_error: 0.3315\n",
      "Epoch 3/10\n",
      "4540/4653 [============================>.] - ETA: 0s - loss: 0.1613 - mean_absolute_error: 0.3240INFO:tensorflow:Assets written to: model/assets\n"
     ]
    },
    {
     "name": "stderr",
     "output_type": "stream",
     "text": [
      "INFO:tensorflow:Assets written to: model/assets\n"
     ]
    },
    {
     "name": "stdout",
     "output_type": "stream",
     "text": [
      "4653/4653 [==============================] - 2s 524us/step - loss: 0.1611 - mean_absolute_error: 0.3239 - val_loss: 0.1690 - val_mean_absolute_error: 0.3373\n",
      "Epoch 4/10\n",
      "4647/4653 [============================>.] - ETA: 0s - loss: 0.1588 - mean_absolute_error: 0.3198INFO:tensorflow:Assets written to: model/assets\n"
     ]
    },
    {
     "name": "stderr",
     "output_type": "stream",
     "text": [
      "INFO:tensorflow:Assets written to: model/assets\n"
     ]
    },
    {
     "name": "stdout",
     "output_type": "stream",
     "text": [
      "4653/4653 [==============================] - 2s 525us/step - loss: 0.1588 - mean_absolute_error: 0.3198 - val_loss: 0.1589 - val_mean_absolute_error: 0.3044\n",
      "Epoch 5/10\n",
      "4543/4653 [============================>.] - ETA: 0s - loss: 0.1569 - mean_absolute_error: 0.3160INFO:tensorflow:Assets written to: model/assets\n"
     ]
    },
    {
     "name": "stderr",
     "output_type": "stream",
     "text": [
      "INFO:tensorflow:Assets written to: model/assets\n"
     ]
    },
    {
     "name": "stdout",
     "output_type": "stream",
     "text": [
      "4653/4653 [==============================] - 3s 549us/step - loss: 0.1570 - mean_absolute_error: 0.3161 - val_loss: 0.1567 - val_mean_absolute_error: 0.3241\n",
      "Epoch 6/10\n",
      "4653/4653 [==============================] - 2s 479us/step - loss: 0.1554 - mean_absolute_error: 0.3140 - val_loss: 0.1581 - val_mean_absolute_error: 0.3042\n",
      "Epoch 7/10\n",
      "4607/4653 [============================>.] - ETA: 0s - loss: 0.1546 - mean_absolute_error: 0.3123INFO:tensorflow:Assets written to: model/assets\n"
     ]
    },
    {
     "name": "stderr",
     "output_type": "stream",
     "text": [
      "INFO:tensorflow:Assets written to: model/assets\n"
     ]
    },
    {
     "name": "stdout",
     "output_type": "stream",
     "text": [
      "4653/4653 [==============================] - 2s 529us/step - loss: 0.1546 - mean_absolute_error: 0.3122 - val_loss: 0.1523 - val_mean_absolute_error: 0.3102\n",
      "Epoch 8/10\n",
      "4653/4653 [==============================] - 2s 479us/step - loss: 0.1533 - mean_absolute_error: 0.3101 - val_loss: 0.1531 - val_mean_absolute_error: 0.3036\n",
      "Epoch 9/10\n",
      "4653/4653 [==============================] - 2s 475us/step - loss: 0.1525 - mean_absolute_error: 0.3089 - val_loss: 0.1602 - val_mean_absolute_error: 0.3083\n",
      "Epoch 10/10\n",
      "4653/4653 [==============================] - ETA: 0s - loss: 0.1508 - mean_absolute_error: 0.3062INFO:tensorflow:Assets written to: model/assets\n"
     ]
    },
    {
     "name": "stderr",
     "output_type": "stream",
     "text": [
      "INFO:tensorflow:Assets written to: model/assets\n"
     ]
    },
    {
     "name": "stdout",
     "output_type": "stream",
     "text": [
      "4653/4653 [==============================] - 2s 525us/step - loss: 0.1508 - mean_absolute_error: 0.3062 - val_loss: 0.1506 - val_mean_absolute_error: 0.3085\n"
     ]
    },
    {
     "data": {
      "text/plain": [
       "<keras.src.callbacks.History at 0x2c9d2e650>"
      ]
     },
     "execution_count": 142,
     "metadata": {},
     "output_type": "execute_result"
    }
   ],
   "source": [
    "# Create a model saving callback and train for 10 epochs (connect to GPU runtime!!)\n",
    "\n",
    "from tensorflow.keras.callbacks import ModelCheckpoint\n",
    "\n",
    "cp = ModelCheckpoint('model/', save_best_only=True)\n",
    "\n",
    "\n",
    "model.fit(x=[X_train_pos, X_train_stats], y=y_train, validation_data=([X_valid_pos, X_valid_stats], y_valid),epochs=10, callbacks=[cp])"
   ]
  },
  {
   "cell_type": "code",
   "execution_count": 143,
   "metadata": {},
   "outputs": [
    {
     "name": "stderr",
     "output_type": "stream",
     "text": [
      "WARNING:absl:At this time, the v2.11+ optimizer `tf.keras.optimizers.RestoredOptimizer` runs slowly on M1/M2 Macs, please use the legacy Keras optimizer instead, located at `tf.keras.optimizers.legacy.RestoredOptimizer`.\n",
      "WARNING:absl:At this time, the v2.11+ optimizer `tf.keras.optimizers.Adam` runs slowly on M1/M2 Macs, please use the legacy Keras optimizer instead, located at `tf.keras.optimizers.legacy.Adam`.\n"
     ]
    }
   ],
   "source": [
    "# Load the saved model\n",
    "\n",
    "from tensorflow.keras.models import load_model\n",
    "\n",
    "loaded_model = load_model('model/')"
   ]
  },
  {
   "cell_type": "code",
   "execution_count": 144,
   "metadata": {},
   "outputs": [
    {
     "name": "stdout",
     "output_type": "stream",
     "text": [
      "762/762 [==============================] - 0s 287us/step\n"
     ]
    },
    {
     "data": {
      "text/plain": [
       "(24368,)"
      ]
     },
     "execution_count": 144,
     "metadata": {},
     "output_type": "execute_result"
    }
   ],
   "source": [
    "# Use the loaded model to obtain predictions on the test set\n",
    "\n",
    "test_predictions = loaded_model.predict([X_test_pos, X_test_stats]).flatten()\n",
    "\n",
    "test_predictions.shape"
   ]
  },
  {
   "cell_type": "code",
   "execution_count": 145,
   "metadata": {},
   "outputs": [
    {
     "data": {
      "text/plain": [
       "<Axes: >"
      ]
     },
     "execution_count": 145,
     "metadata": {},
     "output_type": "execute_result"
    },
    {
     "data": {
      "image/png": "[encoded data removed]",
      "text/plain": [
       "<Figure size 640x480 with 1 Axes>"
      ]
     },
     "metadata": {},
     "output_type": "display_data"
    }
   ],
   "source": [
    "test_preds_series = pd.Series(test_predictions)\n",
    "\n",
    "test_preds_series.hist()"
   ]
  },
  {
   "cell_type": "code",
   "execution_count": 146,
   "metadata": {},
   "outputs": [
    {
     "data": {
      "text/plain": [
       "0.29584066604285036"
      ]
     },
     "execution_count": 146,
     "metadata": {},
     "output_type": "execute_result"
    }
   ],
   "source": [
    "from sklearn.metrics import precision_recall_curve,auc, roc_auc_score\n",
    "precision, recall, thresholds = precision_recall_curve(y_test,test_preds_series)\n",
    "auc(recall,precision)"
   ]
  },
  {
   "cell_type": "code",
   "execution_count": 147,
   "metadata": {},
   "outputs": [
    {
     "data": {
      "text/plain": [
       "0.8511243608964126"
      ]
     },
     "execution_count": 147,
     "metadata": {},
     "output_type": "execute_result"
    }
   ],
   "source": [
    "roc_auc_score(y_test,test_preds_series)"
   ]
  },
  {
   "cell_type": "code",
   "execution_count": null,
   "metadata": {},
   "outputs": [],
   "source": []
  }
 ],
 "metadata": {
  "kernelspec": {
   "display_name": "Python 3",
   "language": "python",
   "name": "python3"
  },
  "language_info": {
   "codemirror_mode": {
    "name": "ipython",
    "version": 3
   },
   "file_extension": ".py",
   "mimetype": "text/x-python",
   "name": "python",
   "nbconvert_exporter": "python",
   "pygments_lexer": "ipython3",
   "version": "3.11.4"
  },
  "orig_nbformat": 4
 },
 "nbformat": 4,
 "nbformat_minor": 2
}
