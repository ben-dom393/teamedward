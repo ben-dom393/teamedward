{
 "cells": [
  {
   "cell_type": "code",
   "execution_count": 49,
   "metadata": {},
   "outputs": [],
   "source": [
    "from sklearn.ensemble import RandomForestClassifier\n",
    "from sklearn.neural_network import MLPClassifier\n",
    "from xgboost import XGBClassifier\n",
    "from imblearn.over_sampling import SMOTE\n",
    "import pandas as pd\n",
    "from sklearn.preprocessing import StandardScaler\n",
    "from imblearn.pipeline import Pipeline\n",
    "from sklearn.metrics import precision_recall_curve,auc, roc_auc_score\n",
    "from sklearn.model_selection import RandomizedSearchCV"
   ]
  },
  {
   "cell_type": "markdown",
   "metadata": {},
   "source": [
    "## Read Data"
   ]
  },
  {
   "cell_type": "code",
   "execution_count": 50,
   "metadata": {},
   "outputs": [],
   "source": [
    "train_df = pd.read_csv('label_df_train.csv')\n",
    "test_df = pd.read_csv('label_df_valid.csv')"
   ]
  },
  {
   "cell_type": "code",
   "execution_count": 51,
   "metadata": {},
   "outputs": [],
   "source": [
    "train_df = train_df.drop(columns = ['transcript_id', 'transcript_position','gene_id','five_mer'])"
   ]
  },
  {
   "cell_type": "code",
   "execution_count": 52,
   "metadata": {},
   "outputs": [],
   "source": [
    "X_train, y_train = train_df[[i for i in train_df.columns if i!='label']],train_df['label']"
   ]
  },
  {
   "cell_type": "markdown",
   "metadata": {},
   "source": [
    "## Hyperparameter Tuning"
   ]
  },
  {
   "cell_type": "code",
   "execution_count": 7,
   "metadata": {},
   "outputs": [],
   "source": [
    "scaler = StandardScaler()\n",
    "smote = SMOTE()\n",
    "mlp_classifier = MLPClassifier(verbose = 2)\n",
    "pipeline = Pipeline([('scaler',scaler),('smote', smote),('mlp', mlp_classifier)])"
   ]
  },
  {
   "cell_type": "code",
   "execution_count": 8,
   "metadata": {},
   "outputs": [],
   "source": [
    "params_grid = {\n",
    "    \"smote__sampling_strategy\": [0.25,0.33,0.5,1],\n",
    "    \"mlp__hidden_layer_sizes\":[(4,4),(8,8),(16,16),(32,32),(64,64)],\n",
    "    \"mlp__alpha\":[1e-5,1e-4,1e-3,1e-2,1e-1],\n",
    "    \"mlp__learning_rate_init\" :[1e-4,1e-3,1e-2,1e-1],\n",
    "    \"mlp__activation\" : ['logistic', 'tanh', 'relu']\n",
    "\n",
    "}"
   ]
  },
  {
   "cell_type": "code",
   "execution_count": 17,
   "metadata": {},
   "outputs": [],
   "source": [
    "clf = RandomizedSearchCV(pipeline, n_iter=50, param_distributions=params_grid, scoring = [\"average_precision\",\"roc_auc\"], n_jobs = -2, verbose = 4, refit = False)"
   ]
  },
  {
   "cell_type": "code",
   "execution_count": 18,
   "metadata": {},
   "outputs": [
    {
     "name": "stdout",
     "output_type": "stream",
     "text": [
      "Fitting 5 folds for each of 50 candidates, totalling 250 fits\n"
     ]
    },
    {
     "data": {
      "text/html": [
       "<style>#sk-container-id-3 {color: black;background-color: white;}#sk-container-id-3 pre{padding: 0;}#sk-container-id-3 div.sk-toggleable {background-color: white;}#sk-container-id-3 label.sk-toggleable__label {cursor: pointer;display: block;width: 100%;margin-bottom: 0;padding: 0.3em;box-sizing: border-box;text-align: center;}#sk-container-id-3 label.sk-toggleable__label-arrow:before {content: \"▸\";float: left;margin-right: 0.25em;color: #696969;}#sk-container-id-3 label.sk-toggleable__label-arrow:hover:before {color: black;}#sk-container-id-3 div.sk-estimator:hover label.sk-toggleable__label-arrow:before {color: black;}#sk-container-id-3 div.sk-toggleable__content {max-height: 0;max-width: 0;overflow: hidden;text-align: left;background-color: #f0f8ff;}#sk-container-id-3 div.sk-toggleable__content pre {margin: 0.2em;color: black;border-radius: 0.25em;background-color: #f0f8ff;}#sk-container-id-3 input.sk-toggleable__control:checked~div.sk-toggleable__content {max-height: 200px;max-width: 100%;overflow: auto;}#sk-container-id-3 input.sk-toggleable__control:checked~label.sk-toggleable__label-arrow:before {content: \"▾\";}#sk-container-id-3 div.sk-estimator input.sk-toggleable__control:checked~label.sk-toggleable__label {background-color: #d4ebff;}#sk-container-id-3 div.sk-label input.sk-toggleable__control:checked~label.sk-toggleable__label {background-color: #d4ebff;}#sk-container-id-3 input.sk-hidden--visually {border: 0;clip: rect(1px 1px 1px 1px);clip: rect(1px, 1px, 1px, 1px);height: 1px;margin: -1px;overflow: hidden;padding: 0;position: absolute;width: 1px;}#sk-container-id-3 div.sk-estimator {font-family: monospace;background-color: #f0f8ff;border: 1px dotted black;border-radius: 0.25em;box-sizing: border-box;margin-bottom: 0.5em;}#sk-container-id-3 div.sk-estimator:hover {background-color: #d4ebff;}#sk-container-id-3 div.sk-parallel-item::after {content: \"\";width: 100%;border-bottom: 1px solid gray;flex-grow: 1;}#sk-container-id-3 div.sk-label:hover label.sk-toggleable__label {background-color: #d4ebff;}#sk-container-id-3 div.sk-serial::before {content: \"\";position: absolute;border-left: 1px solid gray;box-sizing: border-box;top: 0;bottom: 0;left: 50%;z-index: 0;}#sk-container-id-3 div.sk-serial {display: flex;flex-direction: column;align-items: center;background-color: white;padding-right: 0.2em;padding-left: 0.2em;position: relative;}#sk-container-id-3 div.sk-item {position: relative;z-index: 1;}#sk-container-id-3 div.sk-parallel {display: flex;align-items: stretch;justify-content: center;background-color: white;position: relative;}#sk-container-id-3 div.sk-item::before, #sk-container-id-3 div.sk-parallel-item::before {content: \"\";position: absolute;border-left: 1px solid gray;box-sizing: border-box;top: 0;bottom: 0;left: 50%;z-index: -1;}#sk-container-id-3 div.sk-parallel-item {display: flex;flex-direction: column;z-index: 1;position: relative;background-color: white;}#sk-container-id-3 div.sk-parallel-item:first-child::after {align-self: flex-end;width: 50%;}#sk-container-id-3 div.sk-parallel-item:last-child::after {align-self: flex-start;width: 50%;}#sk-container-id-3 div.sk-parallel-item:only-child::after {width: 0;}#sk-container-id-3 div.sk-dashed-wrapped {border: 1px dashed gray;margin: 0 0.4em 0.5em 0.4em;box-sizing: border-box;padding-bottom: 0.4em;background-color: white;}#sk-container-id-3 div.sk-label label {font-family: monospace;font-weight: bold;display: inline-block;line-height: 1.2em;}#sk-container-id-3 div.sk-label-container {text-align: center;}#sk-container-id-3 div.sk-container {/* jupyter's `normalize.less` sets `[hidden] { display: none; }` but bootstrap.min.css set `[hidden] { display: none !important; }` so we also need the `!important` here to be able to override the default hidden behavior on the sphinx rendered scikit-learn.org. See: https://github.com/scikit-learn/scikit-learn/issues/21755 */display: inline-block !important;position: relative;}#sk-container-id-3 div.sk-text-repr-fallback {display: none;}</style><div id=\"sk-container-id-3\" class=\"sk-top-container\"><div class=\"sk-text-repr-fallback\"><pre>RandomizedSearchCV(estimator=Pipeline(steps=[(&#x27;scaler&#x27;, StandardScaler()),\n",
       "                                             (&#x27;smote&#x27;, SMOTE()),\n",
       "                                             (&#x27;mlp&#x27;,\n",
       "                                              MLPClassifier(verbose=2))]),\n",
       "                   n_iter=50, n_jobs=-2,\n",
       "                   param_distributions={&#x27;mlp__activation&#x27;: [&#x27;logistic&#x27;, &#x27;tanh&#x27;,\n",
       "                                                            &#x27;relu&#x27;],\n",
       "                                        &#x27;mlp__alpha&#x27;: [1e-05, 0.0001, 0.001,\n",
       "                                                       0.01, 0.1],\n",
       "                                        &#x27;mlp__hidden_layer_sizes&#x27;: [(4, 4),\n",
       "                                                                    (8, 8),\n",
       "                                                                    (16, 16),\n",
       "                                                                    (32, 32),\n",
       "                                                                    (64, 64)],\n",
       "                                        &#x27;mlp__learning_rate_init&#x27;: [0.0001,\n",
       "                                                                    0.001, 0.01,\n",
       "                                                                    0.1],\n",
       "                                        &#x27;smote__sampling_strategy&#x27;: [0.25, 0.33,\n",
       "                                                                     0.5, 1]},\n",
       "                   refit=False, scoring=[&#x27;average_precision&#x27;, &#x27;roc_auc&#x27;],\n",
       "                   verbose=4)</pre><b>In a Jupyter environment, please rerun this cell to show the HTML representation or trust the notebook. <br />On GitHub, the HTML representation is unable to render, please try loading this page with nbviewer.org.</b></div><div class=\"sk-container\" hidden><div class=\"sk-item sk-dashed-wrapped\"><div class=\"sk-label-container\"><div class=\"sk-label sk-toggleable\"><input class=\"sk-toggleable__control sk-hidden--visually\" id=\"sk-estimator-id-11\" type=\"checkbox\" ><label for=\"sk-estimator-id-11\" class=\"sk-toggleable__label sk-toggleable__label-arrow\">RandomizedSearchCV</label><div class=\"sk-toggleable__content\"><pre>RandomizedSearchCV(estimator=Pipeline(steps=[(&#x27;scaler&#x27;, StandardScaler()),\n",
       "                                             (&#x27;smote&#x27;, SMOTE()),\n",
       "                                             (&#x27;mlp&#x27;,\n",
       "                                              MLPClassifier(verbose=2))]),\n",
       "                   n_iter=50, n_jobs=-2,\n",
       "                   param_distributions={&#x27;mlp__activation&#x27;: [&#x27;logistic&#x27;, &#x27;tanh&#x27;,\n",
       "                                                            &#x27;relu&#x27;],\n",
       "                                        &#x27;mlp__alpha&#x27;: [1e-05, 0.0001, 0.001,\n",
       "                                                       0.01, 0.1],\n",
       "                                        &#x27;mlp__hidden_layer_sizes&#x27;: [(4, 4),\n",
       "                                                                    (8, 8),\n",
       "                                                                    (16, 16),\n",
       "                                                                    (32, 32),\n",
       "                                                                    (64, 64)],\n",
       "                                        &#x27;mlp__learning_rate_init&#x27;: [0.0001,\n",
       "                                                                    0.001, 0.01,\n",
       "                                                                    0.1],\n",
       "                                        &#x27;smote__sampling_strategy&#x27;: [0.25, 0.33,\n",
       "                                                                     0.5, 1]},\n",
       "                   refit=False, scoring=[&#x27;average_precision&#x27;, &#x27;roc_auc&#x27;],\n",
       "                   verbose=4)</pre></div></div></div><div class=\"sk-parallel\"><div class=\"sk-parallel-item\"><div class=\"sk-item\"><div class=\"sk-label-container\"><div class=\"sk-label sk-toggleable\"><input class=\"sk-toggleable__control sk-hidden--visually\" id=\"sk-estimator-id-12\" type=\"checkbox\" ><label for=\"sk-estimator-id-12\" class=\"sk-toggleable__label sk-toggleable__label-arrow\">estimator: Pipeline</label><div class=\"sk-toggleable__content\"><pre>Pipeline(steps=[(&#x27;scaler&#x27;, StandardScaler()), (&#x27;smote&#x27;, SMOTE()),\n",
       "                (&#x27;mlp&#x27;, MLPClassifier(verbose=2))])</pre></div></div></div><div class=\"sk-serial\"><div class=\"sk-item\"><div class=\"sk-serial\"><div class=\"sk-item\"><div class=\"sk-estimator sk-toggleable\"><input class=\"sk-toggleable__control sk-hidden--visually\" id=\"sk-estimator-id-13\" type=\"checkbox\" ><label for=\"sk-estimator-id-13\" class=\"sk-toggleable__label sk-toggleable__label-arrow\">StandardScaler</label><div class=\"sk-toggleable__content\"><pre>StandardScaler()</pre></div></div></div><div class=\"sk-item\"><div class=\"sk-estimator sk-toggleable\"><input class=\"sk-toggleable__control sk-hidden--visually\" id=\"sk-estimator-id-14\" type=\"checkbox\" ><label for=\"sk-estimator-id-14\" class=\"sk-toggleable__label sk-toggleable__label-arrow\">SMOTE</label><div class=\"sk-toggleable__content\"><pre>SMOTE()</pre></div></div></div><div class=\"sk-item\"><div class=\"sk-estimator sk-toggleable\"><input class=\"sk-toggleable__control sk-hidden--visually\" id=\"sk-estimator-id-15\" type=\"checkbox\" ><label for=\"sk-estimator-id-15\" class=\"sk-toggleable__label sk-toggleable__label-arrow\">MLPClassifier</label><div class=\"sk-toggleable__content\"><pre>MLPClassifier(verbose=2)</pre></div></div></div></div></div></div></div></div></div></div></div></div>"
      ],
      "text/plain": [
       "RandomizedSearchCV(estimator=Pipeline(steps=[('scaler', StandardScaler()),\n",
       "                                             ('smote', SMOTE()),\n",
       "                                             ('mlp',\n",
       "                                              MLPClassifier(verbose=2))]),\n",
       "                   n_iter=50, n_jobs=-2,\n",
       "                   param_distributions={'mlp__activation': ['logistic', 'tanh',\n",
       "                                                            'relu'],\n",
       "                                        'mlp__alpha': [1e-05, 0.0001, 0.001,\n",
       "                                                       0.01, 0.1],\n",
       "                                        'mlp__hidden_layer_sizes': [(4, 4),\n",
       "                                                                    (8, 8),\n",
       "                                                                    (16, 16),\n",
       "                                                                    (32, 32),\n",
       "                                                                    (64, 64)],\n",
       "                                        'mlp__learning_rate_init': [0.0001,\n",
       "                                                                    0.001, 0.01,\n",
       "                                                                    0.1],\n",
       "                                        'smote__sampling_strategy': [0.25, 0.33,\n",
       "                                                                     0.5, 1]},\n",
       "                   refit=False, scoring=['average_precision', 'roc_auc'],\n",
       "                   verbose=4)"
      ]
     },
     "execution_count": 18,
     "metadata": {},
     "output_type": "execute_result"
    }
   ],
   "source": [
    "clf.fit(X_train, y_train)"
   ]
  },
  {
   "cell_type": "code",
   "execution_count": 24,
   "metadata": {},
   "outputs": [],
   "source": [
    "df_results = pd.DataFrame(clf.cv_results_)"
   ]
  },
  {
   "cell_type": "code",
   "execution_count": 29,
   "metadata": {},
   "outputs": [
    {
     "data": {
      "text/plain": [
       "Index(['mean_fit_time', 'std_fit_time', 'mean_score_time', 'std_score_time',\n",
       "       'param_smote__sampling_strategy', 'param_mlp__learning_rate_init',\n",
       "       'param_mlp__hidden_layer_sizes', 'param_mlp__alpha',\n",
       "       'param_mlp__activation', 'params', 'split0_test_average_precision',\n",
       "       'split1_test_average_precision', 'split2_test_average_precision',\n",
       "       'split3_test_average_precision', 'split4_test_average_precision',\n",
       "       'mean_test_average_precision', 'std_test_average_precision',\n",
       "       'rank_test_average_precision', 'split0_test_roc_auc',\n",
       "       'split1_test_roc_auc', 'split2_test_roc_auc', 'split3_test_roc_auc',\n",
       "       'split4_test_roc_auc', 'mean_test_roc_auc', 'std_test_roc_auc',\n",
       "       'rank_test_roc_auc'],\n",
       "      dtype='object')"
      ]
     },
     "execution_count": 29,
     "metadata": {},
     "output_type": "execute_result"
    }
   ],
   "source": [
    "df_results.columns"
   ]
  },
  {
   "cell_type": "markdown",
   "metadata": {},
   "source": [
    "## Best Results"
   ]
  },
  {
   "cell_type": "code",
   "execution_count": 77,
   "metadata": {},
   "outputs": [
    {
     "data": {
      "text/html": [
       "<div>\n",
       "<style scoped>\n",
       "    .dataframe tbody tr th:only-of-type {\n",
       "        vertical-align: middle;\n",
       "    }\n",
       "\n",
       "    .dataframe tbody tr th {\n",
       "        vertical-align: top;\n",
       "    }\n",
       "\n",
       "    .dataframe thead th {\n",
       "        text-align: right;\n",
       "    }\n",
       "</style>\n",
       "<table border=\"1\" class=\"dataframe\">\n",
       "  <thead>\n",
       "    <tr style=\"text-align: right;\">\n",
       "      <th></th>\n",
       "      <th>mean_test_roc_auc</th>\n",
       "      <th>mean_test_average_precision</th>\n",
       "    </tr>\n",
       "  </thead>\n",
       "  <tbody>\n",
       "    <tr>\n",
       "      <th>45</th>\n",
       "      <td>0.911728</td>\n",
       "      <td>0.45301</td>\n",
       "    </tr>\n",
       "  </tbody>\n",
       "</table>\n",
       "</div>"
      ],
      "text/plain": [
       "    mean_test_roc_auc  mean_test_average_precision\n",
       "45           0.911728                      0.45301"
      ]
     },
     "execution_count": 77,
     "metadata": {},
     "output_type": "execute_result"
    }
   ],
   "source": [
    "df_results[df_results['rank_test_average_precision']==1][['mean_test_roc_auc','mean_test_average_precision']]"
   ]
  },
  {
   "cell_type": "markdown",
   "metadata": {},
   "source": [
    "## Best Parameters"
   ]
  },
  {
   "cell_type": "code",
   "execution_count": 78,
   "metadata": {},
   "outputs": [
    {
     "data": {
      "text/html": [
       "<div>\n",
       "<style scoped>\n",
       "    .dataframe tbody tr th:only-of-type {\n",
       "        vertical-align: middle;\n",
       "    }\n",
       "\n",
       "    .dataframe tbody tr th {\n",
       "        vertical-align: top;\n",
       "    }\n",
       "\n",
       "    .dataframe thead th {\n",
       "        text-align: right;\n",
       "    }\n",
       "</style>\n",
       "<table border=\"1\" class=\"dataframe\">\n",
       "  <thead>\n",
       "    <tr style=\"text-align: right;\">\n",
       "      <th></th>\n",
       "      <th>param_smote__sampling_strategy</th>\n",
       "      <th>param_mlp__learning_rate_init</th>\n",
       "      <th>param_mlp__hidden_layer_sizes</th>\n",
       "      <th>param_mlp__alpha</th>\n",
       "      <th>param_mlp__activation</th>\n",
       "      <th>params</th>\n",
       "    </tr>\n",
       "  </thead>\n",
       "  <tbody>\n",
       "    <tr>\n",
       "      <th>45</th>\n",
       "      <td>0.33</td>\n",
       "      <td>0.001</td>\n",
       "      <td>(16, 16)</td>\n",
       "      <td>0.1</td>\n",
       "      <td>logistic</td>\n",
       "      <td>{'smote__sampling_strategy': 0.33, 'mlp__learn...</td>\n",
       "    </tr>\n",
       "  </tbody>\n",
       "</table>\n",
       "</div>"
      ],
      "text/plain": [
       "   param_smote__sampling_strategy param_mlp__learning_rate_init  \\\n",
       "45                           0.33                         0.001   \n",
       "\n",
       "   param_mlp__hidden_layer_sizes param_mlp__alpha param_mlp__activation  \\\n",
       "45                      (16, 16)              0.1              logistic   \n",
       "\n",
       "                                               params  \n",
       "45  {'smote__sampling_strategy': 0.33, 'mlp__learn...  "
      ]
     },
     "execution_count": 78,
     "metadata": {},
     "output_type": "execute_result"
    }
   ],
   "source": [
    "df_results[df_results['rank_test_average_precision']==1][['param_smote__sampling_strategy', 'param_mlp__learning_rate_init',\n",
    "       'param_mlp__hidden_layer_sizes', 'param_mlp__alpha',\n",
    "       'param_mlp__activation', 'params']]"
   ]
  },
  {
   "cell_type": "code",
   "execution_count": 46,
   "metadata": {},
   "outputs": [],
   "source": [
    "#Save results\n",
    "df_results.to_csv('hyperparameter_results.csv')"
   ]
  },
  {
   "cell_type": "markdown",
   "metadata": {},
   "source": [
    "## Refitting"
   ]
  },
  {
   "cell_type": "code",
   "execution_count": 57,
   "metadata": {},
   "outputs": [
    {
     "data": {
      "text/html": [
       "<style>#sk-container-id-11 {color: black;background-color: white;}#sk-container-id-11 pre{padding: 0;}#sk-container-id-11 div.sk-toggleable {background-color: white;}#sk-container-id-11 label.sk-toggleable__label {cursor: pointer;display: block;width: 100%;margin-bottom: 0;padding: 0.3em;box-sizing: border-box;text-align: center;}#sk-container-id-11 label.sk-toggleable__label-arrow:before {content: \"▸\";float: left;margin-right: 0.25em;color: #696969;}#sk-container-id-11 label.sk-toggleable__label-arrow:hover:before {color: black;}#sk-container-id-11 div.sk-estimator:hover label.sk-toggleable__label-arrow:before {color: black;}#sk-container-id-11 div.sk-toggleable__content {max-height: 0;max-width: 0;overflow: hidden;text-align: left;background-color: #f0f8ff;}#sk-container-id-11 div.sk-toggleable__content pre {margin: 0.2em;color: black;border-radius: 0.25em;background-color: #f0f8ff;}#sk-container-id-11 input.sk-toggleable__control:checked~div.sk-toggleable__content {max-height: 200px;max-width: 100%;overflow: auto;}#sk-container-id-11 input.sk-toggleable__control:checked~label.sk-toggleable__label-arrow:before {content: \"▾\";}#sk-container-id-11 div.sk-estimator input.sk-toggleable__control:checked~label.sk-toggleable__label {background-color: #d4ebff;}#sk-container-id-11 div.sk-label input.sk-toggleable__control:checked~label.sk-toggleable__label {background-color: #d4ebff;}#sk-container-id-11 input.sk-hidden--visually {border: 0;clip: rect(1px 1px 1px 1px);clip: rect(1px, 1px, 1px, 1px);height: 1px;margin: -1px;overflow: hidden;padding: 0;position: absolute;width: 1px;}#sk-container-id-11 div.sk-estimator {font-family: monospace;background-color: #f0f8ff;border: 1px dotted black;border-radius: 0.25em;box-sizing: border-box;margin-bottom: 0.5em;}#sk-container-id-11 div.sk-estimator:hover {background-color: #d4ebff;}#sk-container-id-11 div.sk-parallel-item::after {content: \"\";width: 100%;border-bottom: 1px solid gray;flex-grow: 1;}#sk-container-id-11 div.sk-label:hover label.sk-toggleable__label {background-color: #d4ebff;}#sk-container-id-11 div.sk-serial::before {content: \"\";position: absolute;border-left: 1px solid gray;box-sizing: border-box;top: 0;bottom: 0;left: 50%;z-index: 0;}#sk-container-id-11 div.sk-serial {display: flex;flex-direction: column;align-items: center;background-color: white;padding-right: 0.2em;padding-left: 0.2em;position: relative;}#sk-container-id-11 div.sk-item {position: relative;z-index: 1;}#sk-container-id-11 div.sk-parallel {display: flex;align-items: stretch;justify-content: center;background-color: white;position: relative;}#sk-container-id-11 div.sk-item::before, #sk-container-id-11 div.sk-parallel-item::before {content: \"\";position: absolute;border-left: 1px solid gray;box-sizing: border-box;top: 0;bottom: 0;left: 50%;z-index: -1;}#sk-container-id-11 div.sk-parallel-item {display: flex;flex-direction: column;z-index: 1;position: relative;background-color: white;}#sk-container-id-11 div.sk-parallel-item:first-child::after {align-self: flex-end;width: 50%;}#sk-container-id-11 div.sk-parallel-item:last-child::after {align-self: flex-start;width: 50%;}#sk-container-id-11 div.sk-parallel-item:only-child::after {width: 0;}#sk-container-id-11 div.sk-dashed-wrapped {border: 1px dashed gray;margin: 0 0.4em 0.5em 0.4em;box-sizing: border-box;padding-bottom: 0.4em;background-color: white;}#sk-container-id-11 div.sk-label label {font-family: monospace;font-weight: bold;display: inline-block;line-height: 1.2em;}#sk-container-id-11 div.sk-label-container {text-align: center;}#sk-container-id-11 div.sk-container {/* jupyter's `normalize.less` sets `[hidden] { display: none; }` but bootstrap.min.css set `[hidden] { display: none !important; }` so we also need the `!important` here to be able to override the default hidden behavior on the sphinx rendered scikit-learn.org. See: https://github.com/scikit-learn/scikit-learn/issues/21755 */display: inline-block !important;position: relative;}#sk-container-id-11 div.sk-text-repr-fallback {display: none;}</style><div id=\"sk-container-id-11\" class=\"sk-top-container\"><div class=\"sk-text-repr-fallback\"><pre>Pipeline(steps=[(&#x27;scaler&#x27;, StandardScaler()),\n",
       "                (&#x27;smote&#x27;, SMOTE(sampling_strategy=0.33)),\n",
       "                (&#x27;mlp&#x27;,\n",
       "                 MLPClassifier(activation=&#x27;logistic&#x27;, alpha=0.1,\n",
       "                               hidden_layer_sizes=(16, 16), verbose=2))])</pre><b>In a Jupyter environment, please rerun this cell to show the HTML representation or trust the notebook. <br />On GitHub, the HTML representation is unable to render, please try loading this page with nbviewer.org.</b></div><div class=\"sk-container\" hidden><div class=\"sk-item sk-dashed-wrapped\"><div class=\"sk-label-container\"><div class=\"sk-label sk-toggleable\"><input class=\"sk-toggleable__control sk-hidden--visually\" id=\"sk-estimator-id-32\" type=\"checkbox\" ><label for=\"sk-estimator-id-32\" class=\"sk-toggleable__label sk-toggleable__label-arrow\">Pipeline</label><div class=\"sk-toggleable__content\"><pre>Pipeline(steps=[(&#x27;scaler&#x27;, StandardScaler()),\n",
       "                (&#x27;smote&#x27;, SMOTE(sampling_strategy=0.33)),\n",
       "                (&#x27;mlp&#x27;,\n",
       "                 MLPClassifier(activation=&#x27;logistic&#x27;, alpha=0.1,\n",
       "                               hidden_layer_sizes=(16, 16), verbose=2))])</pre></div></div></div><div class=\"sk-serial\"><div class=\"sk-item\"><div class=\"sk-estimator sk-toggleable\"><input class=\"sk-toggleable__control sk-hidden--visually\" id=\"sk-estimator-id-33\" type=\"checkbox\" ><label for=\"sk-estimator-id-33\" class=\"sk-toggleable__label sk-toggleable__label-arrow\">StandardScaler</label><div class=\"sk-toggleable__content\"><pre>StandardScaler()</pre></div></div></div><div class=\"sk-item\"><div class=\"sk-estimator sk-toggleable\"><input class=\"sk-toggleable__control sk-hidden--visually\" id=\"sk-estimator-id-34\" type=\"checkbox\" ><label for=\"sk-estimator-id-34\" class=\"sk-toggleable__label sk-toggleable__label-arrow\">SMOTE</label><div class=\"sk-toggleable__content\"><pre>SMOTE(sampling_strategy=0.33)</pre></div></div></div><div class=\"sk-item\"><div class=\"sk-estimator sk-toggleable\"><input class=\"sk-toggleable__control sk-hidden--visually\" id=\"sk-estimator-id-35\" type=\"checkbox\" ><label for=\"sk-estimator-id-35\" class=\"sk-toggleable__label sk-toggleable__label-arrow\">MLPClassifier</label><div class=\"sk-toggleable__content\"><pre>MLPClassifier(activation=&#x27;logistic&#x27;, alpha=0.1, hidden_layer_sizes=(16, 16),\n",
       "              verbose=2)</pre></div></div></div></div></div></div></div>"
      ],
      "text/plain": [
       "Pipeline(steps=[('scaler', StandardScaler()),\n",
       "                ('smote', SMOTE(sampling_strategy=0.33)),\n",
       "                ('mlp',\n",
       "                 MLPClassifier(activation='logistic', alpha=0.1,\n",
       "                               hidden_layer_sizes=(16, 16), verbose=2))])"
      ]
     },
     "execution_count": 57,
     "metadata": {},
     "output_type": "execute_result"
    }
   ],
   "source": [
    "new_scaler = StandardScaler()\n",
    "new_smote = SMOTE(sampling_strategy=0.33)\n",
    "new_mlp_classifier = MLPClassifier(verbose = 2, hidden_layer_sizes=(16,16),learning_rate_init=0.001, activation=\"logistic\", alpha  = 0.1)\n",
    "new_pipeline = Pipeline([('scaler',new_scaler),('smote', new_smote),('mlp', new_mlp_classifier)])\n",
    "new_pipeline"
   ]
  },
  {
   "cell_type": "code",
   "execution_count": 58,
   "metadata": {},
   "outputs": [
    {
     "name": "stdout",
     "output_type": "stream",
     "text": [
      "Iteration 1, loss = 0.48530685\n",
      "Iteration 2, loss = 0.39078938\n",
      "Iteration 3, loss = 0.35943566\n",
      "Iteration 4, loss = 0.34817361\n",
      "Iteration 5, loss = 0.34166358\n",
      "Iteration 6, loss = 0.33847754\n",
      "Iteration 7, loss = 0.33579705\n",
      "Iteration 8, loss = 0.33356104\n",
      "Iteration 9, loss = 0.33197716\n",
      "Iteration 10, loss = 0.33047760\n",
      "Iteration 11, loss = 0.32920695\n",
      "Iteration 12, loss = 0.32815921\n",
      "Iteration 13, loss = 0.32721347\n",
      "Iteration 14, loss = 0.32641818\n",
      "Iteration 15, loss = 0.32540623\n",
      "Iteration 16, loss = 0.32461615\n",
      "Iteration 17, loss = 0.32368250\n",
      "Iteration 18, loss = 0.32343881\n",
      "Iteration 19, loss = 0.32252644\n",
      "Iteration 20, loss = 0.32204165\n",
      "Iteration 21, loss = 0.32176935\n",
      "Iteration 22, loss = 0.32087545\n",
      "Iteration 23, loss = 0.32044128\n",
      "Iteration 24, loss = 0.32039476\n",
      "Iteration 25, loss = 0.31970333\n",
      "Iteration 26, loss = 0.31911936\n",
      "Iteration 27, loss = 0.31939201\n",
      "Iteration 28, loss = 0.31878871\n",
      "Iteration 29, loss = 0.31875175\n",
      "Iteration 30, loss = 0.31824769\n",
      "Iteration 31, loss = 0.31817562\n",
      "Iteration 32, loss = 0.31760997\n",
      "Iteration 33, loss = 0.31762873\n",
      "Iteration 34, loss = 0.31711124\n",
      "Iteration 35, loss = 0.31698252\n",
      "Iteration 36, loss = 0.31700495\n",
      "Iteration 37, loss = 0.31627616\n",
      "Iteration 38, loss = 0.31653349\n",
      "Iteration 39, loss = 0.31619522\n",
      "Iteration 40, loss = 0.31586905\n",
      "Iteration 41, loss = 0.31601978\n",
      "Iteration 42, loss = 0.31557778\n",
      "Iteration 43, loss = 0.31551085\n",
      "Iteration 44, loss = 0.31540043\n",
      "Iteration 45, loss = 0.31566418\n",
      "Iteration 46, loss = 0.31491087\n",
      "Iteration 47, loss = 0.31498221\n",
      "Iteration 48, loss = 0.31479343\n",
      "Iteration 49, loss = 0.31481752\n",
      "Iteration 50, loss = 0.31454832\n",
      "Iteration 51, loss = 0.31469803\n",
      "Iteration 52, loss = 0.31457814\n",
      "Iteration 53, loss = 0.31414127\n",
      "Iteration 54, loss = 0.31383239\n",
      "Iteration 55, loss = 0.31394456\n",
      "Iteration 56, loss = 0.31391256\n",
      "Iteration 57, loss = 0.31369654\n",
      "Iteration 58, loss = 0.31359304\n",
      "Iteration 59, loss = 0.31363952\n",
      "Iteration 60, loss = 0.31324424\n",
      "Iteration 61, loss = 0.31300044\n",
      "Iteration 62, loss = 0.31318558\n",
      "Iteration 63, loss = 0.31279630\n",
      "Iteration 64, loss = 0.31285602\n",
      "Iteration 65, loss = 0.31294132\n",
      "Iteration 66, loss = 0.31272381\n",
      "Iteration 67, loss = 0.31277447\n",
      "Iteration 68, loss = 0.31272063\n",
      "Iteration 69, loss = 0.31280289\n",
      "Iteration 70, loss = 0.31236182\n",
      "Iteration 71, loss = 0.31256311\n",
      "Iteration 72, loss = 0.31240126\n",
      "Iteration 73, loss = 0.31232421\n",
      "Iteration 74, loss = 0.31219638\n",
      "Iteration 75, loss = 0.31209507\n",
      "Iteration 76, loss = 0.31204108\n",
      "Iteration 77, loss = 0.31196162\n",
      "Iteration 78, loss = 0.31190265\n",
      "Iteration 79, loss = 0.31194667\n",
      "Iteration 80, loss = 0.31187025\n",
      "Iteration 81, loss = 0.31159402\n",
      "Iteration 82, loss = 0.31161764\n",
      "Iteration 83, loss = 0.31144149\n",
      "Iteration 84, loss = 0.31171228\n",
      "Iteration 85, loss = 0.31135878\n",
      "Iteration 86, loss = 0.31126224\n",
      "Iteration 87, loss = 0.31109581\n",
      "Iteration 88, loss = 0.31137544\n",
      "Iteration 89, loss = 0.31093871\n",
      "Iteration 90, loss = 0.31111233\n",
      "Iteration 91, loss = 0.31122390\n",
      "Iteration 92, loss = 0.31103479\n",
      "Iteration 93, loss = 0.31108046\n",
      "Iteration 94, loss = 0.31110831\n",
      "Iteration 95, loss = 0.31083138\n",
      "Iteration 96, loss = 0.31100680\n",
      "Iteration 97, loss = 0.31078273\n",
      "Iteration 98, loss = 0.31061496\n",
      "Iteration 99, loss = 0.31044945\n",
      "Iteration 100, loss = 0.31072728\n",
      "Iteration 101, loss = 0.31067558\n",
      "Iteration 102, loss = 0.31041126\n",
      "Iteration 103, loss = 0.31058139\n",
      "Iteration 104, loss = 0.31050273\n",
      "Iteration 105, loss = 0.31032581\n",
      "Iteration 106, loss = 0.31053055\n",
      "Iteration 107, loss = 0.31061478\n",
      "Iteration 108, loss = 0.31017310\n",
      "Iteration 109, loss = 0.31024636\n",
      "Iteration 110, loss = 0.31013140\n",
      "Iteration 111, loss = 0.31028717\n",
      "Iteration 112, loss = 0.30995313\n",
      "Iteration 113, loss = 0.31028393\n",
      "Iteration 114, loss = 0.30972861\n",
      "Iteration 115, loss = 0.30974148\n",
      "Iteration 116, loss = 0.31001640\n",
      "Iteration 117, loss = 0.30997725\n",
      "Iteration 118, loss = 0.30982099\n",
      "Iteration 119, loss = 0.30995284\n",
      "Iteration 120, loss = 0.31019600\n",
      "Iteration 121, loss = 0.31003683\n",
      "Iteration 122, loss = 0.31003956\n",
      "Iteration 123, loss = 0.30998527\n",
      "Iteration 124, loss = 0.30987441\n",
      "Iteration 125, loss = 0.30983193\n",
      "Training loss did not improve more than tol=0.000100 for 10 consecutive epochs. Stopping.\n"
     ]
    },
    {
     "data": {
      "text/html": [
       "<style>#sk-container-id-12 {color: black;background-color: white;}#sk-container-id-12 pre{padding: 0;}#sk-container-id-12 div.sk-toggleable {background-color: white;}#sk-container-id-12 label.sk-toggleable__label {cursor: pointer;display: block;width: 100%;margin-bottom: 0;padding: 0.3em;box-sizing: border-box;text-align: center;}#sk-container-id-12 label.sk-toggleable__label-arrow:before {content: \"▸\";float: left;margin-right: 0.25em;color: #696969;}#sk-container-id-12 label.sk-toggleable__label-arrow:hover:before {color: black;}#sk-container-id-12 div.sk-estimator:hover label.sk-toggleable__label-arrow:before {color: black;}#sk-container-id-12 div.sk-toggleable__content {max-height: 0;max-width: 0;overflow: hidden;text-align: left;background-color: #f0f8ff;}#sk-container-id-12 div.sk-toggleable__content pre {margin: 0.2em;color: black;border-radius: 0.25em;background-color: #f0f8ff;}#sk-container-id-12 input.sk-toggleable__control:checked~div.sk-toggleable__content {max-height: 200px;max-width: 100%;overflow: auto;}#sk-container-id-12 input.sk-toggleable__control:checked~label.sk-toggleable__label-arrow:before {content: \"▾\";}#sk-container-id-12 div.sk-estimator input.sk-toggleable__control:checked~label.sk-toggleable__label {background-color: #d4ebff;}#sk-container-id-12 div.sk-label input.sk-toggleable__control:checked~label.sk-toggleable__label {background-color: #d4ebff;}#sk-container-id-12 input.sk-hidden--visually {border: 0;clip: rect(1px 1px 1px 1px);clip: rect(1px, 1px, 1px, 1px);height: 1px;margin: -1px;overflow: hidden;padding: 0;position: absolute;width: 1px;}#sk-container-id-12 div.sk-estimator {font-family: monospace;background-color: #f0f8ff;border: 1px dotted black;border-radius: 0.25em;box-sizing: border-box;margin-bottom: 0.5em;}#sk-container-id-12 div.sk-estimator:hover {background-color: #d4ebff;}#sk-container-id-12 div.sk-parallel-item::after {content: \"\";width: 100%;border-bottom: 1px solid gray;flex-grow: 1;}#sk-container-id-12 div.sk-label:hover label.sk-toggleable__label {background-color: #d4ebff;}#sk-container-id-12 div.sk-serial::before {content: \"\";position: absolute;border-left: 1px solid gray;box-sizing: border-box;top: 0;bottom: 0;left: 50%;z-index: 0;}#sk-container-id-12 div.sk-serial {display: flex;flex-direction: column;align-items: center;background-color: white;padding-right: 0.2em;padding-left: 0.2em;position: relative;}#sk-container-id-12 div.sk-item {position: relative;z-index: 1;}#sk-container-id-12 div.sk-parallel {display: flex;align-items: stretch;justify-content: center;background-color: white;position: relative;}#sk-container-id-12 div.sk-item::before, #sk-container-id-12 div.sk-parallel-item::before {content: \"\";position: absolute;border-left: 1px solid gray;box-sizing: border-box;top: 0;bottom: 0;left: 50%;z-index: -1;}#sk-container-id-12 div.sk-parallel-item {display: flex;flex-direction: column;z-index: 1;position: relative;background-color: white;}#sk-container-id-12 div.sk-parallel-item:first-child::after {align-self: flex-end;width: 50%;}#sk-container-id-12 div.sk-parallel-item:last-child::after {align-self: flex-start;width: 50%;}#sk-container-id-12 div.sk-parallel-item:only-child::after {width: 0;}#sk-container-id-12 div.sk-dashed-wrapped {border: 1px dashed gray;margin: 0 0.4em 0.5em 0.4em;box-sizing: border-box;padding-bottom: 0.4em;background-color: white;}#sk-container-id-12 div.sk-label label {font-family: monospace;font-weight: bold;display: inline-block;line-height: 1.2em;}#sk-container-id-12 div.sk-label-container {text-align: center;}#sk-container-id-12 div.sk-container {/* jupyter's `normalize.less` sets `[hidden] { display: none; }` but bootstrap.min.css set `[hidden] { display: none !important; }` so we also need the `!important` here to be able to override the default hidden behavior on the sphinx rendered scikit-learn.org. See: https://github.com/scikit-learn/scikit-learn/issues/21755 */display: inline-block !important;position: relative;}#sk-container-id-12 div.sk-text-repr-fallback {display: none;}</style><div id=\"sk-container-id-12\" class=\"sk-top-container\"><div class=\"sk-text-repr-fallback\"><pre>Pipeline(steps=[(&#x27;scaler&#x27;, StandardScaler()),\n",
       "                (&#x27;smote&#x27;, SMOTE(sampling_strategy=0.33)),\n",
       "                (&#x27;mlp&#x27;,\n",
       "                 MLPClassifier(activation=&#x27;logistic&#x27;, alpha=0.1,\n",
       "                               hidden_layer_sizes=(16, 16), verbose=2))])</pre><b>In a Jupyter environment, please rerun this cell to show the HTML representation or trust the notebook. <br />On GitHub, the HTML representation is unable to render, please try loading this page with nbviewer.org.</b></div><div class=\"sk-container\" hidden><div class=\"sk-item sk-dashed-wrapped\"><div class=\"sk-label-container\"><div class=\"sk-label sk-toggleable\"><input class=\"sk-toggleable__control sk-hidden--visually\" id=\"sk-estimator-id-36\" type=\"checkbox\" ><label for=\"sk-estimator-id-36\" class=\"sk-toggleable__label sk-toggleable__label-arrow\">Pipeline</label><div class=\"sk-toggleable__content\"><pre>Pipeline(steps=[(&#x27;scaler&#x27;, StandardScaler()),\n",
       "                (&#x27;smote&#x27;, SMOTE(sampling_strategy=0.33)),\n",
       "                (&#x27;mlp&#x27;,\n",
       "                 MLPClassifier(activation=&#x27;logistic&#x27;, alpha=0.1,\n",
       "                               hidden_layer_sizes=(16, 16), verbose=2))])</pre></div></div></div><div class=\"sk-serial\"><div class=\"sk-item\"><div class=\"sk-estimator sk-toggleable\"><input class=\"sk-toggleable__control sk-hidden--visually\" id=\"sk-estimator-id-37\" type=\"checkbox\" ><label for=\"sk-estimator-id-37\" class=\"sk-toggleable__label sk-toggleable__label-arrow\">StandardScaler</label><div class=\"sk-toggleable__content\"><pre>StandardScaler()</pre></div></div></div><div class=\"sk-item\"><div class=\"sk-estimator sk-toggleable\"><input class=\"sk-toggleable__control sk-hidden--visually\" id=\"sk-estimator-id-38\" type=\"checkbox\" ><label for=\"sk-estimator-id-38\" class=\"sk-toggleable__label sk-toggleable__label-arrow\">SMOTE</label><div class=\"sk-toggleable__content\"><pre>SMOTE(sampling_strategy=0.33)</pre></div></div></div><div class=\"sk-item\"><div class=\"sk-estimator sk-toggleable\"><input class=\"sk-toggleable__control sk-hidden--visually\" id=\"sk-estimator-id-39\" type=\"checkbox\" ><label for=\"sk-estimator-id-39\" class=\"sk-toggleable__label sk-toggleable__label-arrow\">MLPClassifier</label><div class=\"sk-toggleable__content\"><pre>MLPClassifier(activation=&#x27;logistic&#x27;, alpha=0.1, hidden_layer_sizes=(16, 16),\n",
       "              verbose=2)</pre></div></div></div></div></div></div></div>"
      ],
      "text/plain": [
       "Pipeline(steps=[('scaler', StandardScaler()),\n",
       "                ('smote', SMOTE(sampling_strategy=0.33)),\n",
       "                ('mlp',\n",
       "                 MLPClassifier(activation='logistic', alpha=0.1,\n",
       "                               hidden_layer_sizes=(16, 16), verbose=2))])"
      ]
     },
     "execution_count": 58,
     "metadata": {},
     "output_type": "execute_result"
    }
   ],
   "source": [
    "new_pipeline.fit(X_train, y_train)"
   ]
  },
  {
   "cell_type": "markdown",
   "metadata": {},
   "source": [
    "## Evaluating on Unseen Test"
   ]
  },
  {
   "cell_type": "code",
   "execution_count": 59,
   "metadata": {},
   "outputs": [
    {
     "data": {
      "text/plain": [
       "0.9006655805047761"
      ]
     },
     "execution_count": 59,
     "metadata": {},
     "output_type": "execute_result"
    }
   ],
   "source": [
    "X_test = test_df[[i for i in X_train]]\n",
    "y_pred_proba = new_pipeline.predict_proba(X_test)[:,1]\n",
    "roc = roc_auc_score(test_df['label'], y_pred_proba)\n",
    "roc"
   ]
  },
  {
   "cell_type": "code",
   "execution_count": 60,
   "metadata": {},
   "outputs": [
    {
     "data": {
      "text/plain": [
       "0.41832941238863297"
      ]
     },
     "execution_count": 60,
     "metadata": {},
     "output_type": "execute_result"
    }
   ],
   "source": [
    "precision, recall, thresholds = precision_recall_curve(test_df['label'],y_pred_proba)\n",
    "pr = auc(recall, precision)\n",
    "pr"
   ]
  },
  {
   "cell_type": "code",
   "execution_count": 61,
   "metadata": {},
   "outputs": [
    {
     "data": {
      "text/plain": [
       "0.6594974964467045"
      ]
     },
     "execution_count": 61,
     "metadata": {},
     "output_type": "execute_result"
    }
   ],
   "source": [
    "0.5*(pr + roc)"
   ]
  }
 ],
 "metadata": {
  "kernelspec": {
   "display_name": "Python 3",
   "language": "python",
   "name": "python3"
  },
  "language_info": {
   "codemirror_mode": {
    "name": "ipython",
    "version": 3
   },
   "file_extension": ".py",
   "mimetype": "text/x-python",
   "name": "python",
   "nbconvert_exporter": "python",
   "pygments_lexer": "ipython3",
   "version": "3.9.5"
  },
  "orig_nbformat": 4
 },
 "nbformat": 4,
 "nbformat_minor": 2
}
